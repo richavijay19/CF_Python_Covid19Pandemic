{
 "cells": [
  {
   "cell_type": "markdown",
   "id": "0d3ec128",
   "metadata": {},
   "source": [
    "##### Machine Learning Part 1"
   ]
  },
  {
   "cell_type": "markdown",
   "id": "b7ff5afe",
   "metadata": {},
   "source": [
    "#### 1. This script contains the following:\n",
    "1. Importing libraries and data\n",
    "2. Data cleaning\n",
    "3. Data prep for regression analysis\n",
    "4. Regression analysis\n"
   ]
  },
  {
   "cell_type": "code",
   "execution_count": 29,
   "id": "00fed065",
   "metadata": {},
   "outputs": [],
   "source": [
    "# Importing Libraries\n",
    "import pandas as pd\n",
    "import numpy as np\n",
    "import seaborn as sns\n",
    "import matplotlib\n",
    "import matplotlib.pyplot as plt\n",
    "import os\n",
    "import sklearn\n",
    "from sklearn.model_selection import train_test_split \n",
    "from sklearn.linear_model import LinearRegression\n",
    "from sklearn.metrics import mean_squared_error, r2_score"
   ]
  },
  {
   "cell_type": "code",
   "execution_count": 18,
   "id": "bb8801c2",
   "metadata": {},
   "outputs": [],
   "source": [
    "# This command propts matplotlib visuals to appear in the notebook \n",
    "\n",
    "%matplotlib inline"
   ]
  },
  {
   "cell_type": "code",
   "execution_count": 4,
   "id": "457d451d",
   "metadata": {},
   "outputs": [],
   "source": [
    "# Define path\n",
    "\n",
    "path=r'C:\\Users\\manis\\Documents\\World_covid_data_Analysis'"
   ]
  },
  {
   "cell_type": "code",
   "execution_count": 5,
   "id": "2d541be6",
   "metadata": {},
   "outputs": [],
   "source": [
    "#Import the cleaned dataset for the project World Covid Data Analysis\n",
    "## Import data\n",
    "df = pd.read_csv(os.path.join(path, '02 Data','prepared_data', 'maincoviddataset_cleanedTask6.2.csv'),index_col=False)"
   ]
  },
  {
   "cell_type": "code",
   "execution_count": 6,
   "id": "e8f3f769",
   "metadata": {},
   "outputs": [
    {
     "data": {
      "text/html": [
       "<div>\n",
       "<style scoped>\n",
       "    .dataframe tbody tr th:only-of-type {\n",
       "        vertical-align: middle;\n",
       "    }\n",
       "\n",
       "    .dataframe tbody tr th {\n",
       "        vertical-align: top;\n",
       "    }\n",
       "\n",
       "    .dataframe thead th {\n",
       "        text-align: right;\n",
       "    }\n",
       "</style>\n",
       "<table border=\"1\" class=\"dataframe\">\n",
       "  <thead>\n",
       "    <tr style=\"text-align: right;\">\n",
       "      <th></th>\n",
       "      <th>Unnamed: 0</th>\n",
       "      <th>Unnamed: 0.1</th>\n",
       "      <th>continent</th>\n",
       "      <th>location</th>\n",
       "      <th>date</th>\n",
       "      <th>cumulative_cases</th>\n",
       "      <th>new_cases</th>\n",
       "      <th>cumulative_deaths</th>\n",
       "      <th>new_deaths</th>\n",
       "      <th>total_vaccinations</th>\n",
       "      <th>people_vaccinated</th>\n",
       "      <th>people_fully_vaccinated</th>\n",
       "      <th>population</th>\n",
       "      <th>mortality range</th>\n",
       "    </tr>\n",
       "  </thead>\n",
       "  <tbody>\n",
       "    <tr>\n",
       "      <th>0</th>\n",
       "      <td>0</td>\n",
       "      <td>0</td>\n",
       "      <td>Asia</td>\n",
       "      <td>Afghanistan</td>\n",
       "      <td>2/24/2020</td>\n",
       "      <td>5</td>\n",
       "      <td>5</td>\n",
       "      <td>0</td>\n",
       "      <td>0</td>\n",
       "      <td>0</td>\n",
       "      <td>0</td>\n",
       "      <td>0</td>\n",
       "      <td>39835428</td>\n",
       "      <td>Low mortality</td>\n",
       "    </tr>\n",
       "    <tr>\n",
       "      <th>1</th>\n",
       "      <td>1</td>\n",
       "      <td>1</td>\n",
       "      <td>Asia</td>\n",
       "      <td>Afghanistan</td>\n",
       "      <td>2/25/2020</td>\n",
       "      <td>5</td>\n",
       "      <td>0</td>\n",
       "      <td>0</td>\n",
       "      <td>0</td>\n",
       "      <td>0</td>\n",
       "      <td>0</td>\n",
       "      <td>0</td>\n",
       "      <td>39835428</td>\n",
       "      <td>Low mortality</td>\n",
       "    </tr>\n",
       "    <tr>\n",
       "      <th>2</th>\n",
       "      <td>2</td>\n",
       "      <td>2</td>\n",
       "      <td>Asia</td>\n",
       "      <td>Afghanistan</td>\n",
       "      <td>2/26/2020</td>\n",
       "      <td>5</td>\n",
       "      <td>0</td>\n",
       "      <td>0</td>\n",
       "      <td>0</td>\n",
       "      <td>0</td>\n",
       "      <td>0</td>\n",
       "      <td>0</td>\n",
       "      <td>39835428</td>\n",
       "      <td>Low mortality</td>\n",
       "    </tr>\n",
       "    <tr>\n",
       "      <th>3</th>\n",
       "      <td>3</td>\n",
       "      <td>3</td>\n",
       "      <td>Asia</td>\n",
       "      <td>Afghanistan</td>\n",
       "      <td>2/27/2020</td>\n",
       "      <td>5</td>\n",
       "      <td>0</td>\n",
       "      <td>0</td>\n",
       "      <td>0</td>\n",
       "      <td>0</td>\n",
       "      <td>0</td>\n",
       "      <td>0</td>\n",
       "      <td>39835428</td>\n",
       "      <td>Low mortality</td>\n",
       "    </tr>\n",
       "    <tr>\n",
       "      <th>4</th>\n",
       "      <td>4</td>\n",
       "      <td>4</td>\n",
       "      <td>Asia</td>\n",
       "      <td>Afghanistan</td>\n",
       "      <td>2/28/2020</td>\n",
       "      <td>5</td>\n",
       "      <td>0</td>\n",
       "      <td>0</td>\n",
       "      <td>0</td>\n",
       "      <td>0</td>\n",
       "      <td>0</td>\n",
       "      <td>0</td>\n",
       "      <td>39835428</td>\n",
       "      <td>Low mortality</td>\n",
       "    </tr>\n",
       "    <tr>\n",
       "      <th>5</th>\n",
       "      <td>5</td>\n",
       "      <td>5</td>\n",
       "      <td>Asia</td>\n",
       "      <td>Afghanistan</td>\n",
       "      <td>2/29/2020</td>\n",
       "      <td>5</td>\n",
       "      <td>0</td>\n",
       "      <td>0</td>\n",
       "      <td>0</td>\n",
       "      <td>0</td>\n",
       "      <td>0</td>\n",
       "      <td>0</td>\n",
       "      <td>39835428</td>\n",
       "      <td>Low mortality</td>\n",
       "    </tr>\n",
       "    <tr>\n",
       "      <th>6</th>\n",
       "      <td>6</td>\n",
       "      <td>6</td>\n",
       "      <td>Asia</td>\n",
       "      <td>Afghanistan</td>\n",
       "      <td>3/1/2020</td>\n",
       "      <td>5</td>\n",
       "      <td>0</td>\n",
       "      <td>0</td>\n",
       "      <td>0</td>\n",
       "      <td>0</td>\n",
       "      <td>0</td>\n",
       "      <td>0</td>\n",
       "      <td>39835428</td>\n",
       "      <td>Low mortality</td>\n",
       "    </tr>\n",
       "    <tr>\n",
       "      <th>7</th>\n",
       "      <td>7</td>\n",
       "      <td>7</td>\n",
       "      <td>Asia</td>\n",
       "      <td>Afghanistan</td>\n",
       "      <td>3/2/2020</td>\n",
       "      <td>5</td>\n",
       "      <td>0</td>\n",
       "      <td>0</td>\n",
       "      <td>0</td>\n",
       "      <td>0</td>\n",
       "      <td>0</td>\n",
       "      <td>0</td>\n",
       "      <td>39835428</td>\n",
       "      <td>Low mortality</td>\n",
       "    </tr>\n",
       "    <tr>\n",
       "      <th>8</th>\n",
       "      <td>8</td>\n",
       "      <td>8</td>\n",
       "      <td>Asia</td>\n",
       "      <td>Afghanistan</td>\n",
       "      <td>3/3/2020</td>\n",
       "      <td>5</td>\n",
       "      <td>0</td>\n",
       "      <td>0</td>\n",
       "      <td>0</td>\n",
       "      <td>0</td>\n",
       "      <td>0</td>\n",
       "      <td>0</td>\n",
       "      <td>39835428</td>\n",
       "      <td>Low mortality</td>\n",
       "    </tr>\n",
       "    <tr>\n",
       "      <th>9</th>\n",
       "      <td>9</td>\n",
       "      <td>9</td>\n",
       "      <td>Asia</td>\n",
       "      <td>Afghanistan</td>\n",
       "      <td>3/4/2020</td>\n",
       "      <td>5</td>\n",
       "      <td>0</td>\n",
       "      <td>0</td>\n",
       "      <td>0</td>\n",
       "      <td>0</td>\n",
       "      <td>0</td>\n",
       "      <td>0</td>\n",
       "      <td>39835428</td>\n",
       "      <td>Low mortality</td>\n",
       "    </tr>\n",
       "  </tbody>\n",
       "</table>\n",
       "</div>"
      ],
      "text/plain": [
       "   Unnamed: 0  Unnamed: 0.1 continent     location       date  \\\n",
       "0           0             0      Asia  Afghanistan  2/24/2020   \n",
       "1           1             1      Asia  Afghanistan  2/25/2020   \n",
       "2           2             2      Asia  Afghanistan  2/26/2020   \n",
       "3           3             3      Asia  Afghanistan  2/27/2020   \n",
       "4           4             4      Asia  Afghanistan  2/28/2020   \n",
       "5           5             5      Asia  Afghanistan  2/29/2020   \n",
       "6           6             6      Asia  Afghanistan   3/1/2020   \n",
       "7           7             7      Asia  Afghanistan   3/2/2020   \n",
       "8           8             8      Asia  Afghanistan   3/3/2020   \n",
       "9           9             9      Asia  Afghanistan   3/4/2020   \n",
       "\n",
       "   cumulative_cases  new_cases  cumulative_deaths  new_deaths  \\\n",
       "0                 5          5                  0           0   \n",
       "1                 5          0                  0           0   \n",
       "2                 5          0                  0           0   \n",
       "3                 5          0                  0           0   \n",
       "4                 5          0                  0           0   \n",
       "5                 5          0                  0           0   \n",
       "6                 5          0                  0           0   \n",
       "7                 5          0                  0           0   \n",
       "8                 5          0                  0           0   \n",
       "9                 5          0                  0           0   \n",
       "\n",
       "   total_vaccinations  people_vaccinated  people_fully_vaccinated  population  \\\n",
       "0                   0                  0                        0    39835428   \n",
       "1                   0                  0                        0    39835428   \n",
       "2                   0                  0                        0    39835428   \n",
       "3                   0                  0                        0    39835428   \n",
       "4                   0                  0                        0    39835428   \n",
       "5                   0                  0                        0    39835428   \n",
       "6                   0                  0                        0    39835428   \n",
       "7                   0                  0                        0    39835428   \n",
       "8                   0                  0                        0    39835428   \n",
       "9                   0                  0                        0    39835428   \n",
       "\n",
       "  mortality range  \n",
       "0   Low mortality  \n",
       "1   Low mortality  \n",
       "2   Low mortality  \n",
       "3   Low mortality  \n",
       "4   Low mortality  \n",
       "5   Low mortality  \n",
       "6   Low mortality  \n",
       "7   Low mortality  \n",
       "8   Low mortality  \n",
       "9   Low mortality  "
      ]
     },
     "execution_count": 6,
     "metadata": {},
     "output_type": "execute_result"
    }
   ],
   "source": [
    "df.head(10)"
   ]
  },
  {
   "cell_type": "code",
   "execution_count": 7,
   "id": "9471e80b",
   "metadata": {},
   "outputs": [
    {
     "data": {
      "text/plain": [
       "(129585, 14)"
      ]
     },
     "execution_count": 7,
     "metadata": {},
     "output_type": "execute_result"
    }
   ],
   "source": [
    "df.shape"
   ]
  },
  {
   "cell_type": "code",
   "execution_count": 8,
   "id": "4ac389e9",
   "metadata": {},
   "outputs": [
    {
     "data": {
      "text/plain": [
       "Index(['Unnamed: 0', 'Unnamed: 0.1', 'continent', 'location', 'date',\n",
       "       'cumulative_cases', 'new_cases', 'cumulative_deaths', 'new_deaths',\n",
       "       'total_vaccinations', 'people_vaccinated', 'people_fully_vaccinated',\n",
       "       'population', 'mortality range'],\n",
       "      dtype='object')"
      ]
     },
     "execution_count": 8,
     "metadata": {},
     "output_type": "execute_result"
    }
   ],
   "source": [
    "df.columns"
   ]
  },
  {
   "cell_type": "code",
   "execution_count": 12,
   "id": "1971d643",
   "metadata": {},
   "outputs": [],
   "source": [
    "#Data Wrangling\n",
    "#Drop Unecessary columns\n",
    "df_new=df.drop(columns=['Unnamed: 0','Unnamed: 0.1'])"
   ]
  },
  {
   "cell_type": "code",
   "execution_count": 13,
   "id": "c9797d2a",
   "metadata": {},
   "outputs": [
    {
     "data": {
      "text/plain": [
       "Index(['continent', 'location', 'date', 'cumulative_cases', 'new_cases',\n",
       "       'cumulative_deaths', 'new_deaths', 'total_vaccinations',\n",
       "       'people_vaccinated', 'people_fully_vaccinated', 'population',\n",
       "       'mortality range'],\n",
       "      dtype='object')"
      ]
     },
     "execution_count": 13,
     "metadata": {},
     "output_type": "execute_result"
    }
   ],
   "source": [
    "df_new.columns"
   ]
  },
  {
   "cell_type": "markdown",
   "id": "020a5f60",
   "metadata": {},
   "source": [
    "#### 2. Data Cleaning"
   ]
  },
  {
   "cell_type": "code",
   "execution_count": 14,
   "id": "ea7d4c1a",
   "metadata": {},
   "outputs": [
    {
     "data": {
      "text/plain": [
       "continent                  0\n",
       "location                   0\n",
       "date                       0\n",
       "cumulative_cases           0\n",
       "new_cases                  0\n",
       "cumulative_deaths          0\n",
       "new_deaths                 0\n",
       "total_vaccinations         0\n",
       "people_vaccinated          0\n",
       "people_fully_vaccinated    0\n",
       "population                 0\n",
       "mortality range            0\n",
       "dtype: int64"
      ]
     },
     "execution_count": 14,
     "metadata": {},
     "output_type": "execute_result"
    }
   ],
   "source": [
    "# # Check for missing values\n",
    "\n",
    "df_new.isnull().sum() # No missing Values"
   ]
  },
  {
   "cell_type": "code",
   "execution_count": 15,
   "id": "5887b0c3",
   "metadata": {},
   "outputs": [],
   "source": [
    "# Check for duplicated records\n",
    "dups = df.duplicated()"
   ]
  },
  {
   "cell_type": "code",
   "execution_count": 16,
   "id": "d9046084",
   "metadata": {},
   "outputs": [
    {
     "data": {
      "text/plain": [
       "(129585,)"
      ]
     },
     "execution_count": 16,
     "metadata": {},
     "output_type": "execute_result"
    }
   ],
   "source": [
    "dups.shape # No duplicates"
   ]
  },
  {
   "cell_type": "markdown",
   "id": "d6a59b87",
   "metadata": {},
   "source": [
    "##### 3. Data prep for regression analysis"
   ]
  },
  {
   "cell_type": "code",
   "execution_count": 20,
   "id": "227058cd",
   "metadata": {},
   "outputs": [
    {
     "data": {
      "image/png": "[encoded data removed]",
      "text/plain": [
       "<Figure size 432x288 with 1 Axes>"
      ]
     },
     "metadata": {
      "needs_background": "light"
     },
     "output_type": "display_data"
    }
   ],
   "source": [
    "# Created a scatterplot using matplotlib for another look at how the chosen variables plot against each other.\n",
    "# Cumulative Covid Cases Vs Mortality\n",
    "\n",
    "import matplotlib.pyplot as plt\n",
    "\n",
    "df_new.plot(x = 'cumulative_cases', y='cumulative_deaths',style='o') # The style option creates a scatterplot; without it, we only have lines.\n",
    "plt.title('Cumulative Covid cases vs Mortality')  \n",
    "plt.xlabel('cumulative_cases')  \n",
    "plt.ylabel('cumulative_deaths')  \n",
    "plt.show()\n",
    "\n",
    "\n"
   ]
  },
  {
   "cell_type": "code",
   "execution_count": 21,
   "id": "e255b9e6",
   "metadata": {},
   "outputs": [
    {
     "data": {
      "image/png": "[encoded data removed]",
      "text/plain": [
       "<Figure size 432x288 with 1 Axes>"
      ]
     },
     "metadata": {
      "needs_background": "light"
     },
     "output_type": "display_data"
    }
   ],
   "source": [
    "#Created a scatterplot for the \"cumulative_cases\" and \"people_vaccinated\" columns\n",
    "import matplotlib.pyplot as plt\n",
    "\n",
    "df_new.plot(x = 'cumulative_cases', y='people_vaccinated',style='o') # The style option creates a scatterplot; without it, we only have lines.\n",
    "plt.title('Cumulative Covid cases vs people_vaccinated')  \n",
    "plt.xlabel('cumulative_cases')  \n",
    "plt.ylabel('people_vaccinated')  \n",
    "plt.show()\n"
   ]
  },
  {
   "cell_type": "code",
   "execution_count": 22,
   "id": "1c770ecf",
   "metadata": {},
   "outputs": [
    {
     "data": {
      "image/png": "[encoded data removed]",
      "text/plain": [
       "<Figure size 432x288 with 1 Axes>"
      ]
     },
     "metadata": {
      "needs_background": "light"
     },
     "output_type": "display_data"
    }
   ],
   "source": [
    "#Created a scatterplot for the \"cumulative_deaths\" and \"people_vaccinated\" columns\n",
    "import matplotlib.pyplot as plt\n",
    "\n",
    "df_new.plot(x = 'cumulative_deaths', y='people_vaccinated',style='o') # The style option creates a scatterplot; without it, we only have lines.\n",
    "plt.title('Mortality V/s Vaccinations')  \n",
    "plt.xlabel('cumulative_deaths')  \n",
    "plt.ylabel('people_vaccinated')  \n",
    "plt.show()"
   ]
  },
  {
   "cell_type": "markdown",
   "id": "b165424d",
   "metadata": {},
   "source": [
    "#### Hypothesis \n",
    "\n",
    " Countries with High Vaccination Rates have Low Mortality \""
   ]
  },
  {
   "cell_type": "code",
   "execution_count": 23,
   "id": "91a61455",
   "metadata": {},
   "outputs": [],
   "source": [
    "# Reshaping the variables into NumPy arrays and put them into separate objects.\n",
    "\n",
    "X = df['cumulative_deaths'].values.reshape(-1,1)\n",
    "y = df['people_vaccinated'].values.reshape(-1,1)"
   ]
  },
  {
   "cell_type": "code",
   "execution_count": 25,
   "id": "4b379062",
   "metadata": {},
   "outputs": [
    {
     "data": {
      "text/plain": [
       "array([[   0],\n",
       "       [   0],\n",
       "       [   0],\n",
       "       ...,\n",
       "       [4710],\n",
       "       [4713],\n",
       "       [4720]], dtype=int64)"
      ]
     },
     "execution_count": 25,
     "metadata": {},
     "output_type": "execute_result"
    }
   ],
   "source": [
    "X"
   ]
  },
  {
   "cell_type": "code",
   "execution_count": 26,
   "id": "5e750403",
   "metadata": {},
   "outputs": [
    {
     "data": {
      "text/plain": [
       "array([[      0],\n",
       "       [      0],\n",
       "       [      0],\n",
       "       ...,\n",
       "       [3883107],\n",
       "       [3897441],\n",
       "       [3908712]], dtype=int64)"
      ]
     },
     "execution_count": 26,
     "metadata": {},
     "output_type": "execute_result"
    }
   ],
   "source": [
    "y"
   ]
  },
  {
   "cell_type": "code",
   "execution_count": 33,
   "id": "7fec8e68",
   "metadata": {},
   "outputs": [],
   "source": [
    "# Spliting data into a training set and a test set.\n",
    "\n",
    "\n",
    "X_train, X_test, y_train, y_test = train_test_split(X, y, test_size=0.3, random_state=0)"
   ]
  },
  {
   "cell_type": "markdown",
   "id": "96724232",
   "metadata": {},
   "source": [
    "#### 4. Regression Analysis\n"
   ]
  },
  {
   "cell_type": "code",
   "execution_count": 34,
   "id": "9385f66e",
   "metadata": {},
   "outputs": [],
   "source": [
    "# Creating a regression object.\n",
    "\n",
    "regression = LinearRegression()  # This is the regression object, which will be fit onto the training set."
   ]
  },
  {
   "cell_type": "code",
   "execution_count": 35,
   "id": "15a4c018",
   "metadata": {},
   "outputs": [
    {
     "data": {
      "text/plain": [
       "LinearRegression()"
      ]
     },
     "execution_count": 35,
     "metadata": {},
     "output_type": "execute_result"
    }
   ],
   "source": [
    "# Fit the regression object onto the training set.\n",
    "\n",
    "regression.fit(X_train, y_train)"
   ]
  },
  {
   "cell_type": "code",
   "execution_count": 36,
   "id": "a73e8ab9",
   "metadata": {},
   "outputs": [],
   "source": [
    "# Predicting the values of y using X.\n",
    "\n",
    "y_predicted = regression.predict(X_test)"
   ]
  },
  {
   "cell_type": "code",
   "execution_count": 37,
   "id": "9663b7ce",
   "metadata": {},
   "outputs": [
    {
     "data": {
      "image/png": "[encoded data removed]",
      "text/plain": [
       "<Figure size 432x288 with 1 Axes>"
      ]
     },
     "metadata": {
      "needs_background": "light"
     },
     "output_type": "display_data"
    }
   ],
   "source": [
    "# Creating a plot that shows the regression line from the model on the test set.\n",
    "\n",
    "plot_test = plt\n",
    "plot_test.scatter(X_test, y_test, color='gray', s = 15)\n",
    "plot_test.plot(X_test, y_predicted, color='red', linewidth =3)\n",
    "plot_test.title('Mortality V/s Vaccinations (Test set)')\n",
    "plot_test.xlabel('Cumulative_deaths')\n",
    "plot_test.ylabel('people_vaccinated')\n",
    "plot_test.show()"
   ]
  },
  {
   "cell_type": "markdown",
   "id": "cc408133",
   "metadata": {},
   "source": [
    " #### interpretation of how well the line appears to fit the data\n",
    " \n",
    "Here the Linear model represented by the red regression line does'nt perfectly covers all the data points. In fact majority of the data points are far away from the regression line.Hence we can say that the regression line appears like not a good fit for the data"
   ]
  },
  {
   "cell_type": "code",
   "execution_count": 38,
   "id": "3b4ae600",
   "metadata": {},
   "outputs": [],
   "source": [
    "# Creating objects that contain the model summary statistics.\n",
    "\n",
    "rmse = mean_squared_error(y_test, y_predicted) # This is the mean squared error\n",
    "r2 = r2_score(y_test, y_predicted) # This is the R2 score."
   ]
  },
  {
   "cell_type": "code",
   "execution_count": 39,
   "id": "8b1b4714",
   "metadata": {},
   "outputs": [
    {
     "name": "stdout",
     "output_type": "stream",
     "text": [
      "Slope: [[328.69770628]]\n",
      "Mean squared error:  266111623413157.38\n",
      "R2 score:  0.43710634495961254\n"
     ]
    }
   ],
   "source": [
    "# Printing the model summary statistics to  evaluate the performance of the model.\n",
    "\n",
    "print('Slope:' ,regression.coef_)\n",
    "print('Mean squared error: ', rmse)\n",
    "print('R2 score: ', r2)"
   ]
  },
  {
   "cell_type": "code",
   "execution_count": 40,
   "id": "feae8595",
   "metadata": {},
   "outputs": [
    {
     "data": {
      "text/plain": [
       "array([[3747723.11186132],\n",
       "       [-554929.86333198],\n",
       "       [-674247.13071129],\n",
       "       ...,\n",
       "       [-703501.22657013],\n",
       "       [-728482.25224734],\n",
       "       [-669645.36282338]])"
      ]
     },
     "execution_count": 40,
     "metadata": {},
     "output_type": "execute_result"
    }
   ],
   "source": [
    "y_predicted"
   ]
  },
  {
   "cell_type": "code",
   "execution_count": 41,
   "id": "250dcb63",
   "metadata": {},
   "outputs": [
    {
     "data": {
      "text/html": [
       "<div>\n",
       "<style scoped>\n",
       "    .dataframe tbody tr th:only-of-type {\n",
       "        vertical-align: middle;\n",
       "    }\n",
       "\n",
       "    .dataframe tbody tr th {\n",
       "        vertical-align: top;\n",
       "    }\n",
       "\n",
       "    .dataframe thead th {\n",
       "        text-align: right;\n",
       "    }\n",
       "</style>\n",
       "<table border=\"1\" class=\"dataframe\">\n",
       "  <thead>\n",
       "    <tr style=\"text-align: right;\">\n",
       "      <th></th>\n",
       "      <th>Actual</th>\n",
       "      <th>Predicted</th>\n",
       "    </tr>\n",
       "  </thead>\n",
       "  <tbody>\n",
       "    <tr>\n",
       "      <th>0</th>\n",
       "      <td>0</td>\n",
       "      <td>3.747723e+06</td>\n",
       "    </tr>\n",
       "    <tr>\n",
       "      <th>1</th>\n",
       "      <td>0</td>\n",
       "      <td>-5.549299e+05</td>\n",
       "    </tr>\n",
       "    <tr>\n",
       "      <th>2</th>\n",
       "      <td>0</td>\n",
       "      <td>-6.742471e+05</td>\n",
       "    </tr>\n",
       "    <tr>\n",
       "      <th>3</th>\n",
       "      <td>0</td>\n",
       "      <td>-7.284823e+05</td>\n",
       "    </tr>\n",
       "    <tr>\n",
       "      <th>4</th>\n",
       "      <td>0</td>\n",
       "      <td>-3.182675e+05</td>\n",
       "    </tr>\n",
       "    <tr>\n",
       "      <th>5</th>\n",
       "      <td>2474767</td>\n",
       "      <td>-7.238805e+05</td>\n",
       "    </tr>\n",
       "    <tr>\n",
       "      <th>6</th>\n",
       "      <td>0</td>\n",
       "      <td>-7.284823e+05</td>\n",
       "    </tr>\n",
       "    <tr>\n",
       "      <th>7</th>\n",
       "      <td>0</td>\n",
       "      <td>-7.281536e+05</td>\n",
       "    </tr>\n",
       "    <tr>\n",
       "      <th>8</th>\n",
       "      <td>2673038</td>\n",
       "      <td>2.025676e+06</td>\n",
       "    </tr>\n",
       "    <tr>\n",
       "      <th>9</th>\n",
       "      <td>1201258</td>\n",
       "      <td>-6.180398e+05</td>\n",
       "    </tr>\n",
       "    <tr>\n",
       "      <th>10</th>\n",
       "      <td>0</td>\n",
       "      <td>4.624932e+07</td>\n",
       "    </tr>\n",
       "    <tr>\n",
       "      <th>11</th>\n",
       "      <td>0</td>\n",
       "      <td>2.496700e+06</td>\n",
       "    </tr>\n",
       "    <tr>\n",
       "      <th>12</th>\n",
       "      <td>549254</td>\n",
       "      <td>-7.186213e+05</td>\n",
       "    </tr>\n",
       "    <tr>\n",
       "      <th>13</th>\n",
       "      <td>0</td>\n",
       "      <td>-5.575594e+05</td>\n",
       "    </tr>\n",
       "    <tr>\n",
       "      <th>14</th>\n",
       "      <td>126320</td>\n",
       "      <td>1.548735e+06</td>\n",
       "    </tr>\n",
       "    <tr>\n",
       "      <th>15</th>\n",
       "      <td>0</td>\n",
       "      <td>-7.284823e+05</td>\n",
       "    </tr>\n",
       "    <tr>\n",
       "      <th>16</th>\n",
       "      <td>0</td>\n",
       "      <td>-7.002142e+05</td>\n",
       "    </tr>\n",
       "    <tr>\n",
       "      <th>17</th>\n",
       "      <td>0</td>\n",
       "      <td>-7.238805e+05</td>\n",
       "    </tr>\n",
       "    <tr>\n",
       "      <th>18</th>\n",
       "      <td>0</td>\n",
       "      <td>-7.284823e+05</td>\n",
       "    </tr>\n",
       "    <tr>\n",
       "      <th>19</th>\n",
       "      <td>0</td>\n",
       "      <td>-6.426922e+05</td>\n",
       "    </tr>\n",
       "    <tr>\n",
       "      <th>20</th>\n",
       "      <td>0</td>\n",
       "      <td>5.598949e+06</td>\n",
       "    </tr>\n",
       "    <tr>\n",
       "      <th>21</th>\n",
       "      <td>0</td>\n",
       "      <td>-3.675722e+05</td>\n",
       "    </tr>\n",
       "    <tr>\n",
       "      <th>22</th>\n",
       "      <td>0</td>\n",
       "      <td>-1.019844e+05</td>\n",
       "    </tr>\n",
       "    <tr>\n",
       "      <th>23</th>\n",
       "      <td>0</td>\n",
       "      <td>-2.334635e+05</td>\n",
       "    </tr>\n",
       "    <tr>\n",
       "      <th>24</th>\n",
       "      <td>0</td>\n",
       "      <td>-3.583686e+05</td>\n",
       "    </tr>\n",
       "    <tr>\n",
       "      <th>25</th>\n",
       "      <td>0</td>\n",
       "      <td>1.297610e+06</td>\n",
       "    </tr>\n",
       "    <tr>\n",
       "      <th>26</th>\n",
       "      <td>0</td>\n",
       "      <td>-7.284823e+05</td>\n",
       "    </tr>\n",
       "    <tr>\n",
       "      <th>27</th>\n",
       "      <td>26996373</td>\n",
       "      <td>2.588025e+07</td>\n",
       "    </tr>\n",
       "    <tr>\n",
       "      <th>28</th>\n",
       "      <td>0</td>\n",
       "      <td>-4.839312e+05</td>\n",
       "    </tr>\n",
       "    <tr>\n",
       "      <th>29</th>\n",
       "      <td>0</td>\n",
       "      <td>-6.847655e+05</td>\n",
       "    </tr>\n",
       "  </tbody>\n",
       "</table>\n",
       "</div>"
      ],
      "text/plain": [
       "      Actual     Predicted\n",
       "0          0  3.747723e+06\n",
       "1          0 -5.549299e+05\n",
       "2          0 -6.742471e+05\n",
       "3          0 -7.284823e+05\n",
       "4          0 -3.182675e+05\n",
       "5    2474767 -7.238805e+05\n",
       "6          0 -7.284823e+05\n",
       "7          0 -7.281536e+05\n",
       "8    2673038  2.025676e+06\n",
       "9    1201258 -6.180398e+05\n",
       "10         0  4.624932e+07\n",
       "11         0  2.496700e+06\n",
       "12    549254 -7.186213e+05\n",
       "13         0 -5.575594e+05\n",
       "14    126320  1.548735e+06\n",
       "15         0 -7.284823e+05\n",
       "16         0 -7.002142e+05\n",
       "17         0 -7.238805e+05\n",
       "18         0 -7.284823e+05\n",
       "19         0 -6.426922e+05\n",
       "20         0  5.598949e+06\n",
       "21         0 -3.675722e+05\n",
       "22         0 -1.019844e+05\n",
       "23         0 -2.334635e+05\n",
       "24         0 -3.583686e+05\n",
       "25         0  1.297610e+06\n",
       "26         0 -7.284823e+05\n",
       "27  26996373  2.588025e+07\n",
       "28         0 -4.839312e+05\n",
       "29         0 -6.847655e+05"
      ]
     },
     "execution_count": 41,
     "metadata": {},
     "output_type": "execute_result"
    }
   ],
   "source": [
    "# Creating a dataframe comparing the actual and predicted values of y.\n",
    "\n",
    "data = pd.DataFrame({'Actual': y_test.flatten(), 'Predicted': y_predicted.flatten()})\n",
    "data.head(30)"
   ]
  },
  {
   "cell_type": "code",
   "execution_count": 42,
   "id": "c7d4c7e5",
   "metadata": {},
   "outputs": [],
   "source": [
    "# Predict.\n",
    "\n",
    "y_predicted_train = regression.predict(X_train) # This is predicting X_train!"
   ]
  },
  {
   "cell_type": "code",
   "execution_count": 43,
   "id": "5db17b81",
   "metadata": {},
   "outputs": [],
   "source": [
    "rmse = mean_squared_error(y_train, y_predicted_train)\n",
    "r2 = r2_score(y_train, y_predicted_train)"
   ]
  },
  {
   "cell_type": "code",
   "execution_count": 44,
   "id": "a0b48f5d",
   "metadata": {},
   "outputs": [
    {
     "name": "stdout",
     "output_type": "stream",
     "text": [
      "Slope: [[328.69770628]]\n",
      "Mean squared error:  433895395393866.25\n",
      "R2 score:  0.3887628463360535\n"
     ]
    }
   ],
   "source": [
    "print('Slope:' ,regression.coef_)\n",
    "print('Mean squared error: ', rmse)\n",
    "print('R2 score: ', r2)"
   ]
  },
  {
   "cell_type": "code",
   "execution_count": 45,
   "id": "00f6ff50",
   "metadata": {},
   "outputs": [
    {
     "data": {
      "image/png": "[encoded data removed]",
      "text/plain": [
       "<Figure size 432x288 with 1 Axes>"
      ]
     },
     "metadata": {
      "needs_background": "light"
     },
     "output_type": "display_data"
    }
   ],
   "source": [
    "# Visualizing the training set results.\n",
    "\n",
    "plot_test = plt\n",
    "plot_test.scatter(X_train, y_train, color='green', s = 15)\n",
    "plot_test.plot(X_train, y_predicted_train, color='red', linewidth =3)\n",
    "plot_test.title('Mortality V/s Vaccinations (Test set)')\n",
    "plot_test.xlabel('cumulative_deaths')\n",
    "plot_test.ylabel('peopel_vaccinated')\n",
    "plot_test.show()"
   ]
  },
  {
   "cell_type": "markdown",
   "id": "f249f62b",
   "metadata": {},
   "source": [
    "##### Include your thoughts on how well the model performed on the test set in a markdown cell.\n",
    "Include any reflections you have on the impact of possible data bias.\n",
    "\n",
    "After analysising the visualization of the regression line and summary statistics for the test data set, it appears that the model did'nt performed well on the test set.First of  all, the slope is a positive slope here which contradicts my hypothesis which states that \"countries with high vacccination rates have low mortality\". Secondly root mean squared error (MSE) is too high here which means that the regression line is too far from the majority datapoints and this kind of regression line is'nt an accurate representation of data.Last, R2 score of 0.43 which explains the variance in the data, is not very promising too, and states that the model is'nt a great fit.\n",
    "\n",
    "Data Collection bias from various countries could be the one reason impacting the performance of this model, because vaccination started at different times in different countries, like developed countries started their vaccination drive months before than developing countries.Also the countries with fatality have most vaccinations as well, so overall to prove that countries with high vaccination have low mortality is going to need more data over the longer period."
   ]
  }
 ],
 "metadata": {
  "kernelspec": {
   "display_name": "Python 3",
   "language": "python",
   "name": "python3"
  },
  "language_info": {
   "codemirror_mode": {
    "name": "ipython",
    "version": 3
   },
   "file_extension": ".py",
   "mimetype": "text/x-python",
   "name": "python",
   "nbconvert_exporter": "python",
   "pygments_lexer": "ipython3",
   "version": "3.8.8"
  }
 },
 "nbformat": 4,
 "nbformat_minor": 5
}
