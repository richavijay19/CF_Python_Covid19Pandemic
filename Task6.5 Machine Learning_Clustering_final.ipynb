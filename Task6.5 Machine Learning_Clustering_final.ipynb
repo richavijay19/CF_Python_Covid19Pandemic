{
 "cells": [
  {
   "cell_type": "markdown",
   "id": "727659da",
   "metadata": {},
   "source": [
    "##### 6.5 Machine Learning Part 2"
   ]
  },
  {
   "cell_type": "markdown",
   "id": "a476665c",
   "metadata": {},
   "source": [
    "##### This script contains the following:\n",
    "1. Importing libraries and data and renaming columns\n",
    "2. The elbow technique\n",
    "3. k-means clustering"
   ]
  },
  {
   "cell_type": "markdown",
   "id": "6790c9ed",
   "metadata": {},
   "source": [
    "##### 1. Importing libraries and data"
   ]
  },
  {
   "cell_type": "code",
   "execution_count": 76,
   "id": "6579a844",
   "metadata": {},
   "outputs": [],
   "source": [
    "import pandas as pd\n",
    "import numpy as np\n",
    "import seaborn as sns\n",
    "import matplotlib\n",
    "import matplotlib.pyplot as plt\n",
    "import os\n",
    "import sklearn\n",
    "from sklearn.cluster import KMeans # To import the k-means algorithm from scikit-learn.\n",
    "import pylab as pl # PyLab is a convenience module that bulk imports matplotlib.\n",
    "from sklearn.preprocessing import MinMaxScaler"
   ]
  },
  {
   "cell_type": "code",
   "execution_count": 77,
   "id": "3340c62c",
   "metadata": {},
   "outputs": [],
   "source": [
    "# This option ensures the graphs created are displayed in notebook without the need to \"call\" them specifically.\n",
    "\n",
    "%matplotlib inline"
   ]
  },
  {
   "cell_type": "code",
   "execution_count": 78,
   "id": "bcd605dd",
   "metadata": {},
   "outputs": [],
   "source": [
    "# Define path\n",
    "\n",
    "path=r'C:\\Users\\manis\\Documents\\World_covid_data_Analysis'"
   ]
  },
  {
   "cell_type": "code",
   "execution_count": 79,
   "id": "6eb87aa4",
   "metadata": {},
   "outputs": [],
   "source": [
    "#Import the cleaned dataset for the project World Covid Data Analysis\n",
    "## Import data\n",
    "df = pd.read_csv(os.path.join(path, '02 Data','prepared_data', 'maincoviddataset_cleanedTask6.2.csv'),index_col=False)"
   ]
  },
  {
   "cell_type": "code",
   "execution_count": 80,
   "id": "ab184833",
   "metadata": {},
   "outputs": [
    {
     "data": {
      "text/plain": [
       "(129585, 14)"
      ]
     },
     "execution_count": 80,
     "metadata": {},
     "output_type": "execute_result"
    }
   ],
   "source": [
    "df.shape"
   ]
  },
  {
   "cell_type": "code",
   "execution_count": 81,
   "id": "a3ed56ee",
   "metadata": {},
   "outputs": [
    {
     "data": {
      "text/html": [
       "<div>\n",
       "<style scoped>\n",
       "    .dataframe tbody tr th:only-of-type {\n",
       "        vertical-align: middle;\n",
       "    }\n",
       "\n",
       "    .dataframe tbody tr th {\n",
       "        vertical-align: top;\n",
       "    }\n",
       "\n",
       "    .dataframe thead th {\n",
       "        text-align: right;\n",
       "    }\n",
       "</style>\n",
       "<table border=\"1\" class=\"dataframe\">\n",
       "  <thead>\n",
       "    <tr style=\"text-align: right;\">\n",
       "      <th></th>\n",
       "      <th>Unnamed: 0</th>\n",
       "      <th>Unnamed: 0.1</th>\n",
       "      <th>continent</th>\n",
       "      <th>location</th>\n",
       "      <th>date</th>\n",
       "      <th>cumulative_cases</th>\n",
       "      <th>new_cases</th>\n",
       "      <th>cumulative_deaths</th>\n",
       "      <th>new_deaths</th>\n",
       "      <th>total_vaccinations</th>\n",
       "      <th>people_vaccinated</th>\n",
       "      <th>people_fully_vaccinated</th>\n",
       "      <th>population</th>\n",
       "      <th>mortality range</th>\n",
       "    </tr>\n",
       "  </thead>\n",
       "  <tbody>\n",
       "    <tr>\n",
       "      <th>0</th>\n",
       "      <td>0</td>\n",
       "      <td>0</td>\n",
       "      <td>Asia</td>\n",
       "      <td>Afghanistan</td>\n",
       "      <td>2/24/2020</td>\n",
       "      <td>5</td>\n",
       "      <td>5</td>\n",
       "      <td>0</td>\n",
       "      <td>0</td>\n",
       "      <td>0</td>\n",
       "      <td>0</td>\n",
       "      <td>0</td>\n",
       "      <td>39835428</td>\n",
       "      <td>Low mortality</td>\n",
       "    </tr>\n",
       "    <tr>\n",
       "      <th>1</th>\n",
       "      <td>1</td>\n",
       "      <td>1</td>\n",
       "      <td>Asia</td>\n",
       "      <td>Afghanistan</td>\n",
       "      <td>2/25/2020</td>\n",
       "      <td>5</td>\n",
       "      <td>0</td>\n",
       "      <td>0</td>\n",
       "      <td>0</td>\n",
       "      <td>0</td>\n",
       "      <td>0</td>\n",
       "      <td>0</td>\n",
       "      <td>39835428</td>\n",
       "      <td>Low mortality</td>\n",
       "    </tr>\n",
       "    <tr>\n",
       "      <th>2</th>\n",
       "      <td>2</td>\n",
       "      <td>2</td>\n",
       "      <td>Asia</td>\n",
       "      <td>Afghanistan</td>\n",
       "      <td>2/26/2020</td>\n",
       "      <td>5</td>\n",
       "      <td>0</td>\n",
       "      <td>0</td>\n",
       "      <td>0</td>\n",
       "      <td>0</td>\n",
       "      <td>0</td>\n",
       "      <td>0</td>\n",
       "      <td>39835428</td>\n",
       "      <td>Low mortality</td>\n",
       "    </tr>\n",
       "    <tr>\n",
       "      <th>3</th>\n",
       "      <td>3</td>\n",
       "      <td>3</td>\n",
       "      <td>Asia</td>\n",
       "      <td>Afghanistan</td>\n",
       "      <td>2/27/2020</td>\n",
       "      <td>5</td>\n",
       "      <td>0</td>\n",
       "      <td>0</td>\n",
       "      <td>0</td>\n",
       "      <td>0</td>\n",
       "      <td>0</td>\n",
       "      <td>0</td>\n",
       "      <td>39835428</td>\n",
       "      <td>Low mortality</td>\n",
       "    </tr>\n",
       "    <tr>\n",
       "      <th>4</th>\n",
       "      <td>4</td>\n",
       "      <td>4</td>\n",
       "      <td>Asia</td>\n",
       "      <td>Afghanistan</td>\n",
       "      <td>2/28/2020</td>\n",
       "      <td>5</td>\n",
       "      <td>0</td>\n",
       "      <td>0</td>\n",
       "      <td>0</td>\n",
       "      <td>0</td>\n",
       "      <td>0</td>\n",
       "      <td>0</td>\n",
       "      <td>39835428</td>\n",
       "      <td>Low mortality</td>\n",
       "    </tr>\n",
       "    <tr>\n",
       "      <th>5</th>\n",
       "      <td>5</td>\n",
       "      <td>5</td>\n",
       "      <td>Asia</td>\n",
       "      <td>Afghanistan</td>\n",
       "      <td>2/29/2020</td>\n",
       "      <td>5</td>\n",
       "      <td>0</td>\n",
       "      <td>0</td>\n",
       "      <td>0</td>\n",
       "      <td>0</td>\n",
       "      <td>0</td>\n",
       "      <td>0</td>\n",
       "      <td>39835428</td>\n",
       "      <td>Low mortality</td>\n",
       "    </tr>\n",
       "    <tr>\n",
       "      <th>6</th>\n",
       "      <td>6</td>\n",
       "      <td>6</td>\n",
       "      <td>Asia</td>\n",
       "      <td>Afghanistan</td>\n",
       "      <td>3/1/2020</td>\n",
       "      <td>5</td>\n",
       "      <td>0</td>\n",
       "      <td>0</td>\n",
       "      <td>0</td>\n",
       "      <td>0</td>\n",
       "      <td>0</td>\n",
       "      <td>0</td>\n",
       "      <td>39835428</td>\n",
       "      <td>Low mortality</td>\n",
       "    </tr>\n",
       "    <tr>\n",
       "      <th>7</th>\n",
       "      <td>7</td>\n",
       "      <td>7</td>\n",
       "      <td>Asia</td>\n",
       "      <td>Afghanistan</td>\n",
       "      <td>3/2/2020</td>\n",
       "      <td>5</td>\n",
       "      <td>0</td>\n",
       "      <td>0</td>\n",
       "      <td>0</td>\n",
       "      <td>0</td>\n",
       "      <td>0</td>\n",
       "      <td>0</td>\n",
       "      <td>39835428</td>\n",
       "      <td>Low mortality</td>\n",
       "    </tr>\n",
       "    <tr>\n",
       "      <th>8</th>\n",
       "      <td>8</td>\n",
       "      <td>8</td>\n",
       "      <td>Asia</td>\n",
       "      <td>Afghanistan</td>\n",
       "      <td>3/3/2020</td>\n",
       "      <td>5</td>\n",
       "      <td>0</td>\n",
       "      <td>0</td>\n",
       "      <td>0</td>\n",
       "      <td>0</td>\n",
       "      <td>0</td>\n",
       "      <td>0</td>\n",
       "      <td>39835428</td>\n",
       "      <td>Low mortality</td>\n",
       "    </tr>\n",
       "    <tr>\n",
       "      <th>9</th>\n",
       "      <td>9</td>\n",
       "      <td>9</td>\n",
       "      <td>Asia</td>\n",
       "      <td>Afghanistan</td>\n",
       "      <td>3/4/2020</td>\n",
       "      <td>5</td>\n",
       "      <td>0</td>\n",
       "      <td>0</td>\n",
       "      <td>0</td>\n",
       "      <td>0</td>\n",
       "      <td>0</td>\n",
       "      <td>0</td>\n",
       "      <td>39835428</td>\n",
       "      <td>Low mortality</td>\n",
       "    </tr>\n",
       "  </tbody>\n",
       "</table>\n",
       "</div>"
      ],
      "text/plain": [
       "   Unnamed: 0  Unnamed: 0.1 continent     location       date  \\\n",
       "0           0             0      Asia  Afghanistan  2/24/2020   \n",
       "1           1             1      Asia  Afghanistan  2/25/2020   \n",
       "2           2             2      Asia  Afghanistan  2/26/2020   \n",
       "3           3             3      Asia  Afghanistan  2/27/2020   \n",
       "4           4             4      Asia  Afghanistan  2/28/2020   \n",
       "5           5             5      Asia  Afghanistan  2/29/2020   \n",
       "6           6             6      Asia  Afghanistan   3/1/2020   \n",
       "7           7             7      Asia  Afghanistan   3/2/2020   \n",
       "8           8             8      Asia  Afghanistan   3/3/2020   \n",
       "9           9             9      Asia  Afghanistan   3/4/2020   \n",
       "\n",
       "   cumulative_cases  new_cases  cumulative_deaths  new_deaths  \\\n",
       "0                 5          5                  0           0   \n",
       "1                 5          0                  0           0   \n",
       "2                 5          0                  0           0   \n",
       "3                 5          0                  0           0   \n",
       "4                 5          0                  0           0   \n",
       "5                 5          0                  0           0   \n",
       "6                 5          0                  0           0   \n",
       "7                 5          0                  0           0   \n",
       "8                 5          0                  0           0   \n",
       "9                 5          0                  0           0   \n",
       "\n",
       "   total_vaccinations  people_vaccinated  people_fully_vaccinated  population  \\\n",
       "0                   0                  0                        0    39835428   \n",
       "1                   0                  0                        0    39835428   \n",
       "2                   0                  0                        0    39835428   \n",
       "3                   0                  0                        0    39835428   \n",
       "4                   0                  0                        0    39835428   \n",
       "5                   0                  0                        0    39835428   \n",
       "6                   0                  0                        0    39835428   \n",
       "7                   0                  0                        0    39835428   \n",
       "8                   0                  0                        0    39835428   \n",
       "9                   0                  0                        0    39835428   \n",
       "\n",
       "  mortality range  \n",
       "0   Low mortality  \n",
       "1   Low mortality  \n",
       "2   Low mortality  \n",
       "3   Low mortality  \n",
       "4   Low mortality  \n",
       "5   Low mortality  \n",
       "6   Low mortality  \n",
       "7   Low mortality  \n",
       "8   Low mortality  \n",
       "9   Low mortality  "
      ]
     },
     "execution_count": 81,
     "metadata": {},
     "output_type": "execute_result"
    }
   ],
   "source": [
    "df.head(10)"
   ]
  },
  {
   "cell_type": "code",
   "execution_count": 82,
   "id": "86bfc037",
   "metadata": {},
   "outputs": [],
   "source": [
    "#Drop Unecessary & categorical columns\n",
    "df_new=df.drop(columns=['Unnamed: 0','Unnamed: 0.1','continent','location','date','mortality range'])"
   ]
  },
  {
   "cell_type": "code",
   "execution_count": 83,
   "id": "db2923f8",
   "metadata": {},
   "outputs": [
    {
     "data": {
      "text/html": [
       "<div>\n",
       "<style scoped>\n",
       "    .dataframe tbody tr th:only-of-type {\n",
       "        vertical-align: middle;\n",
       "    }\n",
       "\n",
       "    .dataframe tbody tr th {\n",
       "        vertical-align: top;\n",
       "    }\n",
       "\n",
       "    .dataframe thead th {\n",
       "        text-align: right;\n",
       "    }\n",
       "</style>\n",
       "<table border=\"1\" class=\"dataframe\">\n",
       "  <thead>\n",
       "    <tr style=\"text-align: right;\">\n",
       "      <th></th>\n",
       "      <th>cumulative_cases</th>\n",
       "      <th>new_cases</th>\n",
       "      <th>cumulative_deaths</th>\n",
       "      <th>new_deaths</th>\n",
       "      <th>total_vaccinations</th>\n",
       "      <th>people_vaccinated</th>\n",
       "      <th>people_fully_vaccinated</th>\n",
       "      <th>population</th>\n",
       "    </tr>\n",
       "  </thead>\n",
       "  <tbody>\n",
       "    <tr>\n",
       "      <th>0</th>\n",
       "      <td>5</td>\n",
       "      <td>5</td>\n",
       "      <td>0</td>\n",
       "      <td>0</td>\n",
       "      <td>0</td>\n",
       "      <td>0</td>\n",
       "      <td>0</td>\n",
       "      <td>39835428</td>\n",
       "    </tr>\n",
       "    <tr>\n",
       "      <th>1</th>\n",
       "      <td>5</td>\n",
       "      <td>0</td>\n",
       "      <td>0</td>\n",
       "      <td>0</td>\n",
       "      <td>0</td>\n",
       "      <td>0</td>\n",
       "      <td>0</td>\n",
       "      <td>39835428</td>\n",
       "    </tr>\n",
       "    <tr>\n",
       "      <th>2</th>\n",
       "      <td>5</td>\n",
       "      <td>0</td>\n",
       "      <td>0</td>\n",
       "      <td>0</td>\n",
       "      <td>0</td>\n",
       "      <td>0</td>\n",
       "      <td>0</td>\n",
       "      <td>39835428</td>\n",
       "    </tr>\n",
       "    <tr>\n",
       "      <th>3</th>\n",
       "      <td>5</td>\n",
       "      <td>0</td>\n",
       "      <td>0</td>\n",
       "      <td>0</td>\n",
       "      <td>0</td>\n",
       "      <td>0</td>\n",
       "      <td>0</td>\n",
       "      <td>39835428</td>\n",
       "    </tr>\n",
       "    <tr>\n",
       "      <th>4</th>\n",
       "      <td>5</td>\n",
       "      <td>0</td>\n",
       "      <td>0</td>\n",
       "      <td>0</td>\n",
       "      <td>0</td>\n",
       "      <td>0</td>\n",
       "      <td>0</td>\n",
       "      <td>39835428</td>\n",
       "    </tr>\n",
       "  </tbody>\n",
       "</table>\n",
       "</div>"
      ],
      "text/plain": [
       "   cumulative_cases  new_cases  cumulative_deaths  new_deaths  \\\n",
       "0                 5          5                  0           0   \n",
       "1                 5          0                  0           0   \n",
       "2                 5          0                  0           0   \n",
       "3                 5          0                  0           0   \n",
       "4                 5          0                  0           0   \n",
       "\n",
       "   total_vaccinations  people_vaccinated  people_fully_vaccinated  population  \n",
       "0                   0                  0                        0    39835428  \n",
       "1                   0                  0                        0    39835428  \n",
       "2                   0                  0                        0    39835428  \n",
       "3                   0                  0                        0    39835428  \n",
       "4                   0                  0                        0    39835428  "
      ]
     },
     "execution_count": 83,
     "metadata": {},
     "output_type": "execute_result"
    }
   ],
   "source": [
    "df_new.head(5)"
   ]
  },
  {
   "cell_type": "markdown",
   "id": "23ad8da9",
   "metadata": {},
   "source": [
    "##### 2. The elbow technique"
   ]
  },
  {
   "cell_type": "code",
   "execution_count": 84,
   "id": "c98808b2",
   "metadata": {},
   "outputs": [],
   "source": [
    "num_cl = range(1, 10) # Defines the range of potential clusters in the data.\n",
    "kmeans = [KMeans(n_clusters=i) for i in num_cl] # Defines k-means clusters in the range assigned above."
   ]
  },
  {
   "cell_type": "code",
   "execution_count": 85,
   "id": "fee111be",
   "metadata": {},
   "outputs": [
    {
     "data": {
      "text/plain": [
       "[-3.938544529953347e+21,\n",
       " -1.1127612283575442e+21,\n",
       " -5.695762910452945e+20,\n",
       " -3.58150057790078e+20,\n",
       " -2.5443332897238585e+20,\n",
       " -1.945233751245024e+20,\n",
       " -1.4998113258148895e+20,\n",
       " -1.2881153965824224e+20,\n",
       " -1.1003438394956322e+20]"
      ]
     },
     "execution_count": 85,
     "metadata": {},
     "output_type": "execute_result"
    }
   ],
   "source": [
    "score = [kmeans[i].fit(df_new).score(df_new) for i in range(len(kmeans))] # Creates a score that represents \n",
    "# a rate of variation for the given cluster option.\n",
    "\n",
    "score"
   ]
  },
  {
   "cell_type": "code",
   "execution_count": 86,
   "id": "7f8fb967",
   "metadata": {},
   "outputs": [
    {
     "data": {
      "image/png": "[encoded data removed]",
      "text/plain": [
       "<Figure size 432x288 with 1 Axes>"
      ]
     },
     "metadata": {
      "needs_background": "light"
     },
     "output_type": "display_data"
    }
   ],
   "source": [
    "# Plot the elbow curve using PyLab.\n",
    "\n",
    "pl.plot(num_cl,score)\n",
    "pl.xlabel('Number of Clusters')\n",
    "pl.ylabel('Score')\n",
    "pl.title('Elbow Curve')\n",
    "pl.show()"
   ]
  },
  {
   "cell_type": "markdown",
   "id": "9576dc64",
   "metadata": {},
   "source": [
    "##### Optimal number of clusters for for this K-algorithm based on the elbow technique chart should be 3 , because there is a huge jump from 1 to 2, then 2 to 3 on X-axis after that the curve flattens out."
   ]
  },
  {
   "cell_type": "markdown",
   "id": "817995a0",
   "metadata": {},
   "source": [
    "##### 3. K-means Clustering"
   ]
  },
  {
   "cell_type": "code",
   "execution_count": 87,
   "id": "49ea32d4",
   "metadata": {},
   "outputs": [],
   "source": [
    "# Create the k-means object.\n",
    "\n",
    "kmeans = KMeans(n_clusters = 3, n_jobs = -1) "
   ]
  },
  {
   "cell_type": "code",
   "execution_count": 88,
   "id": "11d96d7f",
   "metadata": {},
   "outputs": [
    {
     "name": "stderr",
     "output_type": "stream",
     "text": [
      "C:\\Users\\manis\\OneDrive\\Documents\\data analytics\\anaconda\\lib\\site-packages\\sklearn\\cluster\\_kmeans.py:792: FutureWarning: 'n_jobs' was deprecated in version 0.23 and will be removed in 1.0 (renaming of 0.25).\n",
      "  warnings.warn(\"'n_jobs' was deprecated in version 0.23 and will be\"\n"
     ]
    },
    {
     "data": {
      "text/plain": [
       "KMeans(n_clusters=3, n_jobs=-1)"
      ]
     },
     "execution_count": 88,
     "metadata": {},
     "output_type": "execute_result"
    }
   ],
   "source": [
    "# Fit the k-means object to the data.\n",
    "\n",
    "kmeans.fit(df_new)"
   ]
  },
  {
   "cell_type": "code",
   "execution_count": 89,
   "id": "cad82730",
   "metadata": {},
   "outputs": [
    {
     "name": "stderr",
     "output_type": "stream",
     "text": [
      "C:\\Users\\manis\\OneDrive\\Documents\\data analytics\\anaconda\\lib\\site-packages\\sklearn\\cluster\\_kmeans.py:792: FutureWarning: 'n_jobs' was deprecated in version 0.23 and will be removed in 1.0 (renaming of 0.25).\n",
      "  warnings.warn(\"'n_jobs' was deprecated in version 0.23 and will be\"\n"
     ]
    }
   ],
   "source": [
    "df_new['clusters'] = kmeans.fit_predict(df_new)"
   ]
  },
  {
   "cell_type": "code",
   "execution_count": 90,
   "id": "55309dd8",
   "metadata": {},
   "outputs": [
    {
     "data": {
      "text/html": [
       "<div>\n",
       "<style scoped>\n",
       "    .dataframe tbody tr th:only-of-type {\n",
       "        vertical-align: middle;\n",
       "    }\n",
       "\n",
       "    .dataframe tbody tr th {\n",
       "        vertical-align: top;\n",
       "    }\n",
       "\n",
       "    .dataframe thead th {\n",
       "        text-align: right;\n",
       "    }\n",
       "</style>\n",
       "<table border=\"1\" class=\"dataframe\">\n",
       "  <thead>\n",
       "    <tr style=\"text-align: right;\">\n",
       "      <th></th>\n",
       "      <th>cumulative_cases</th>\n",
       "      <th>new_cases</th>\n",
       "      <th>cumulative_deaths</th>\n",
       "      <th>new_deaths</th>\n",
       "      <th>total_vaccinations</th>\n",
       "      <th>people_vaccinated</th>\n",
       "      <th>people_fully_vaccinated</th>\n",
       "      <th>population</th>\n",
       "      <th>clusters</th>\n",
       "    </tr>\n",
       "  </thead>\n",
       "  <tbody>\n",
       "    <tr>\n",
       "      <th>0</th>\n",
       "      <td>5</td>\n",
       "      <td>5</td>\n",
       "      <td>0</td>\n",
       "      <td>0</td>\n",
       "      <td>0</td>\n",
       "      <td>0</td>\n",
       "      <td>0</td>\n",
       "      <td>39835428</td>\n",
       "      <td>0</td>\n",
       "    </tr>\n",
       "    <tr>\n",
       "      <th>1</th>\n",
       "      <td>5</td>\n",
       "      <td>0</td>\n",
       "      <td>0</td>\n",
       "      <td>0</td>\n",
       "      <td>0</td>\n",
       "      <td>0</td>\n",
       "      <td>0</td>\n",
       "      <td>39835428</td>\n",
       "      <td>0</td>\n",
       "    </tr>\n",
       "    <tr>\n",
       "      <th>2</th>\n",
       "      <td>5</td>\n",
       "      <td>0</td>\n",
       "      <td>0</td>\n",
       "      <td>0</td>\n",
       "      <td>0</td>\n",
       "      <td>0</td>\n",
       "      <td>0</td>\n",
       "      <td>39835428</td>\n",
       "      <td>0</td>\n",
       "    </tr>\n",
       "    <tr>\n",
       "      <th>3</th>\n",
       "      <td>5</td>\n",
       "      <td>0</td>\n",
       "      <td>0</td>\n",
       "      <td>0</td>\n",
       "      <td>0</td>\n",
       "      <td>0</td>\n",
       "      <td>0</td>\n",
       "      <td>39835428</td>\n",
       "      <td>0</td>\n",
       "    </tr>\n",
       "    <tr>\n",
       "      <th>4</th>\n",
       "      <td>5</td>\n",
       "      <td>0</td>\n",
       "      <td>0</td>\n",
       "      <td>0</td>\n",
       "      <td>0</td>\n",
       "      <td>0</td>\n",
       "      <td>0</td>\n",
       "      <td>39835428</td>\n",
       "      <td>0</td>\n",
       "    </tr>\n",
       "  </tbody>\n",
       "</table>\n",
       "</div>"
      ],
      "text/plain": [
       "   cumulative_cases  new_cases  cumulative_deaths  new_deaths  \\\n",
       "0                 5          5                  0           0   \n",
       "1                 5          0                  0           0   \n",
       "2                 5          0                  0           0   \n",
       "3                 5          0                  0           0   \n",
       "4                 5          0                  0           0   \n",
       "\n",
       "   total_vaccinations  people_vaccinated  people_fully_vaccinated  population  \\\n",
       "0                   0                  0                        0    39835428   \n",
       "1                   0                  0                        0    39835428   \n",
       "2                   0                  0                        0    39835428   \n",
       "3                   0                  0                        0    39835428   \n",
       "4                   0                  0                        0    39835428   \n",
       "\n",
       "   clusters  \n",
       "0         0  \n",
       "1         0  \n",
       "2         0  \n",
       "3         0  \n",
       "4         0  "
      ]
     },
     "execution_count": 90,
     "metadata": {},
     "output_type": "execute_result"
    }
   ],
   "source": [
    "df_new.head(5)"
   ]
  },
  {
   "cell_type": "code",
   "execution_count": 91,
   "id": "9c57a377",
   "metadata": {},
   "outputs": [
    {
     "data": {
      "text/plain": [
       "0    128219\n",
       "2      1106\n",
       "1       260\n",
       "Name: clusters, dtype: int64"
      ]
     },
     "execution_count": 91,
     "metadata": {},
     "output_type": "execute_result"
    }
   ],
   "source": [
    "df_new['clusters'].value_counts()"
   ]
  },
  {
   "cell_type": "code",
   "execution_count": 92,
   "id": "5ee5e498",
   "metadata": {},
   "outputs": [
    {
     "data": {
      "image/png": "[encoded data removed]",
      "text/plain": [
       "<Figure size 864x576 with 1 Axes>"
      ]
     },
     "metadata": {
      "needs_background": "light"
     },
     "output_type": "display_data"
    }
   ],
   "source": [
    "# Plot the clusters for the \"cumulative_cases\" and \"cumulative_deaths\" variables.\n",
    "\n",
    "plt.figure(figsize=(12,8))\n",
    "ax = sns.scatterplot(x=df_new['cumulative_cases'], y=df_new['cumulative_deaths'], hue=kmeans.labels_, s=30) \n",
    "# Here, subsetting `X` for the x and y arguments to avoid using their labels. \n",
    "# `hue` takes the value of the attribute `kmeans.labels_`, which is the result of running the k-means algorithm.\n",
    "# `s` represents the size of the points  to see in the plot.\n",
    "\n",
    "ax.grid(False) # This removes the grid from the background.\n",
    "plt.xlabel('cumulative_cases') # Label x-axis.\n",
    "plt.ylabel('cumulative_deaths') # Label y-axis.\n",
    "plt.show()"
   ]
  },
  {
   "cell_type": "code",
   "execution_count": 93,
   "id": "814aa70b",
   "metadata": {},
   "outputs": [
    {
     "data": {
      "image/png": "[encoded data removed]",
      "text/plain": [
       "<Figure size 864x576 with 1 Axes>"
      ]
     },
     "metadata": {
      "needs_background": "light"
     },
     "output_type": "display_data"
    }
   ],
   "source": [
    "# Plot the clusters for the \"cumulative_deaths\" and \"people_vaccinated\" variables.\n",
    "\n",
    "plt.figure(figsize=(12,8))\n",
    "ax = sns.scatterplot(x=df_new['cumulative_deaths'], y=df_new['people_vaccinated'], hue=kmeans.labels_, s=30) \n",
    "ax.grid(False) \n",
    "plt.xlabel('cumulative_deaths') \n",
    "plt.ylabel('people_vaccinated') \n",
    "plt.show()"
   ]
  },
  {
   "cell_type": "code",
   "execution_count": 94,
   "id": "3774b842",
   "metadata": {},
   "outputs": [],
   "source": [
    "df_new.loc[df_new['clusters'] == 2, 'cluster'] = 'dark purple'\n",
    "df_new.loc[df_new['clusters'] == 1, 'cluster'] = 'purple'\n",
    "df_new.loc[df_new['clusters'] == 0, 'cluster'] = 'pink'"
   ]
  },
  {
   "cell_type": "code",
   "execution_count": 95,
   "id": "5938ca41",
   "metadata": {},
   "outputs": [
    {
     "data": {
      "text/html": [
       "<div>\n",
       "<style scoped>\n",
       "    .dataframe tbody tr th:only-of-type {\n",
       "        vertical-align: middle;\n",
       "    }\n",
       "\n",
       "    .dataframe tbody tr th {\n",
       "        vertical-align: top;\n",
       "    }\n",
       "\n",
       "    .dataframe thead tr th {\n",
       "        text-align: left;\n",
       "    }\n",
       "\n",
       "    .dataframe thead tr:last-of-type th {\n",
       "        text-align: right;\n",
       "    }\n",
       "</style>\n",
       "<table border=\"1\" class=\"dataframe\">\n",
       "  <thead>\n",
       "    <tr>\n",
       "      <th></th>\n",
       "      <th colspan=\"2\" halign=\"left\">cumulative_cases</th>\n",
       "      <th colspan=\"2\" halign=\"left\">cumulative_deaths</th>\n",
       "      <th colspan=\"2\" halign=\"left\">people_vaccinated</th>\n",
       "    </tr>\n",
       "    <tr>\n",
       "      <th></th>\n",
       "      <th>mean</th>\n",
       "      <th>median</th>\n",
       "      <th>mean</th>\n",
       "      <th>median</th>\n",
       "      <th>mean</th>\n",
       "      <th>median</th>\n",
       "    </tr>\n",
       "    <tr>\n",
       "      <th>clusters</th>\n",
       "      <th></th>\n",
       "      <th></th>\n",
       "      <th></th>\n",
       "      <th></th>\n",
       "      <th></th>\n",
       "      <th></th>\n",
       "    </tr>\n",
       "  </thead>\n",
       "  <tbody>\n",
       "    <tr>\n",
       "      <th>0</th>\n",
       "      <td>4.587371e+05</td>\n",
       "      <td>16801.0</td>\n",
       "      <td>10818.016019</td>\n",
       "      <td>281</td>\n",
       "      <td>2.218015e+06</td>\n",
       "      <td>0</td>\n",
       "    </tr>\n",
       "    <tr>\n",
       "      <th>1</th>\n",
       "      <td>1.071992e+07</td>\n",
       "      <td>96723.0</td>\n",
       "      <td>145852.653846</td>\n",
       "      <td>4636</td>\n",
       "      <td>2.435923e+08</td>\n",
       "      <td>0</td>\n",
       "    </tr>\n",
       "    <tr>\n",
       "      <th>2</th>\n",
       "      <td>6.122958e+06</td>\n",
       "      <td>90479.5</td>\n",
       "      <td>83745.085895</td>\n",
       "      <td>4636</td>\n",
       "      <td>4.113750e+07</td>\n",
       "      <td>0</td>\n",
       "    </tr>\n",
       "  </tbody>\n",
       "</table>\n",
       "</div>"
      ],
      "text/plain": [
       "         cumulative_cases          cumulative_deaths        people_vaccinated  \\\n",
       "                     mean   median              mean median              mean   \n",
       "clusters                                                                        \n",
       "0            4.587371e+05  16801.0      10818.016019    281      2.218015e+06   \n",
       "1            1.071992e+07  96723.0     145852.653846   4636      2.435923e+08   \n",
       "2            6.122958e+06  90479.5      83745.085895   4636      4.113750e+07   \n",
       "\n",
       "                 \n",
       "         median  \n",
       "clusters         \n",
       "0             0  \n",
       "1             0  \n",
       "2             0  "
      ]
     },
     "execution_count": 95,
     "metadata": {},
     "output_type": "execute_result"
    }
   ],
   "source": [
    "df_new.groupby('clusters').agg({'cumulative_cases':['mean', 'median'], \n",
    "                         'cumulative_deaths':['mean', 'median'], \n",
    "                         'people_vaccinated':['mean', 'median']})"
   ]
  },
  {
   "cell_type": "code",
   "execution_count": 96,
   "id": "225f8ded",
   "metadata": {},
   "outputs": [],
   "source": [
    "# Scaling the X(Cumulative_deaths) and y(people_vaccinated) axis , to bring them on the same scale and see if that makes any difference in Clustering\n",
    "\n",
    "scaler = MinMaxScaler()\n",
    "\n",
    "scaler.fit(df_new[['cumulative_deaths']])\n",
    "df_new['cumulative_deaths'] = scaler.transform(df_new[['cumulative_deaths']])\n",
    "\n",
    "scaler.fit(df_new[['people_vaccinated']])\n",
    "df_new['people_vaccinated'] = scaler.transform(df_new[['people_vaccinated']])"
   ]
  },
  {
   "cell_type": "code",
   "execution_count": 97,
   "id": "daa5788d",
   "metadata": {},
   "outputs": [
    {
     "data": {
      "text/html": [
       "<div>\n",
       "<style scoped>\n",
       "    .dataframe tbody tr th:only-of-type {\n",
       "        vertical-align: middle;\n",
       "    }\n",
       "\n",
       "    .dataframe tbody tr th {\n",
       "        vertical-align: top;\n",
       "    }\n",
       "\n",
       "    .dataframe thead th {\n",
       "        text-align: right;\n",
       "    }\n",
       "</style>\n",
       "<table border=\"1\" class=\"dataframe\">\n",
       "  <thead>\n",
       "    <tr style=\"text-align: right;\">\n",
       "      <th></th>\n",
       "      <th>cumulative_cases</th>\n",
       "      <th>new_cases</th>\n",
       "      <th>cumulative_deaths</th>\n",
       "      <th>new_deaths</th>\n",
       "      <th>total_vaccinations</th>\n",
       "      <th>people_vaccinated</th>\n",
       "      <th>people_fully_vaccinated</th>\n",
       "      <th>population</th>\n",
       "      <th>clusters</th>\n",
       "      <th>cluster</th>\n",
       "    </tr>\n",
       "  </thead>\n",
       "  <tbody>\n",
       "    <tr>\n",
       "      <th>0</th>\n",
       "      <td>5</td>\n",
       "      <td>5</td>\n",
       "      <td>0.0</td>\n",
       "      <td>0</td>\n",
       "      <td>0</td>\n",
       "      <td>0.0</td>\n",
       "      <td>0</td>\n",
       "      <td>39835428</td>\n",
       "      <td>0</td>\n",
       "      <td>pink</td>\n",
       "    </tr>\n",
       "    <tr>\n",
       "      <th>1</th>\n",
       "      <td>5</td>\n",
       "      <td>0</td>\n",
       "      <td>0.0</td>\n",
       "      <td>0</td>\n",
       "      <td>0</td>\n",
       "      <td>0.0</td>\n",
       "      <td>0</td>\n",
       "      <td>39835428</td>\n",
       "      <td>0</td>\n",
       "      <td>pink</td>\n",
       "    </tr>\n",
       "    <tr>\n",
       "      <th>2</th>\n",
       "      <td>5</td>\n",
       "      <td>0</td>\n",
       "      <td>0.0</td>\n",
       "      <td>0</td>\n",
       "      <td>0</td>\n",
       "      <td>0.0</td>\n",
       "      <td>0</td>\n",
       "      <td>39835428</td>\n",
       "      <td>0</td>\n",
       "      <td>pink</td>\n",
       "    </tr>\n",
       "    <tr>\n",
       "      <th>3</th>\n",
       "      <td>5</td>\n",
       "      <td>0</td>\n",
       "      <td>0.0</td>\n",
       "      <td>0</td>\n",
       "      <td>0</td>\n",
       "      <td>0.0</td>\n",
       "      <td>0</td>\n",
       "      <td>39835428</td>\n",
       "      <td>0</td>\n",
       "      <td>pink</td>\n",
       "    </tr>\n",
       "    <tr>\n",
       "      <th>4</th>\n",
       "      <td>5</td>\n",
       "      <td>0</td>\n",
       "      <td>0.0</td>\n",
       "      <td>0</td>\n",
       "      <td>0</td>\n",
       "      <td>0.0</td>\n",
       "      <td>0</td>\n",
       "      <td>39835428</td>\n",
       "      <td>0</td>\n",
       "      <td>pink</td>\n",
       "    </tr>\n",
       "    <tr>\n",
       "      <th>5</th>\n",
       "      <td>5</td>\n",
       "      <td>0</td>\n",
       "      <td>0.0</td>\n",
       "      <td>0</td>\n",
       "      <td>0</td>\n",
       "      <td>0.0</td>\n",
       "      <td>0</td>\n",
       "      <td>39835428</td>\n",
       "      <td>0</td>\n",
       "      <td>pink</td>\n",
       "    </tr>\n",
       "    <tr>\n",
       "      <th>6</th>\n",
       "      <td>5</td>\n",
       "      <td>0</td>\n",
       "      <td>0.0</td>\n",
       "      <td>0</td>\n",
       "      <td>0</td>\n",
       "      <td>0.0</td>\n",
       "      <td>0</td>\n",
       "      <td>39835428</td>\n",
       "      <td>0</td>\n",
       "      <td>pink</td>\n",
       "    </tr>\n",
       "    <tr>\n",
       "      <th>7</th>\n",
       "      <td>5</td>\n",
       "      <td>0</td>\n",
       "      <td>0.0</td>\n",
       "      <td>0</td>\n",
       "      <td>0</td>\n",
       "      <td>0.0</td>\n",
       "      <td>0</td>\n",
       "      <td>39835428</td>\n",
       "      <td>0</td>\n",
       "      <td>pink</td>\n",
       "    </tr>\n",
       "    <tr>\n",
       "      <th>8</th>\n",
       "      <td>5</td>\n",
       "      <td>0</td>\n",
       "      <td>0.0</td>\n",
       "      <td>0</td>\n",
       "      <td>0</td>\n",
       "      <td>0.0</td>\n",
       "      <td>0</td>\n",
       "      <td>39835428</td>\n",
       "      <td>0</td>\n",
       "      <td>pink</td>\n",
       "    </tr>\n",
       "    <tr>\n",
       "      <th>9</th>\n",
       "      <td>5</td>\n",
       "      <td>0</td>\n",
       "      <td>0.0</td>\n",
       "      <td>0</td>\n",
       "      <td>0</td>\n",
       "      <td>0.0</td>\n",
       "      <td>0</td>\n",
       "      <td>39835428</td>\n",
       "      <td>0</td>\n",
       "      <td>pink</td>\n",
       "    </tr>\n",
       "  </tbody>\n",
       "</table>\n",
       "</div>"
      ],
      "text/plain": [
       "   cumulative_cases  new_cases  cumulative_deaths  new_deaths  \\\n",
       "0                 5          5                0.0           0   \n",
       "1                 5          0                0.0           0   \n",
       "2                 5          0                0.0           0   \n",
       "3                 5          0                0.0           0   \n",
       "4                 5          0                0.0           0   \n",
       "5                 5          0                0.0           0   \n",
       "6                 5          0                0.0           0   \n",
       "7                 5          0                0.0           0   \n",
       "8                 5          0                0.0           0   \n",
       "9                 5          0                0.0           0   \n",
       "\n",
       "   total_vaccinations  people_vaccinated  people_fully_vaccinated  population  \\\n",
       "0                   0                0.0                        0    39835428   \n",
       "1                   0                0.0                        0    39835428   \n",
       "2                   0                0.0                        0    39835428   \n",
       "3                   0                0.0                        0    39835428   \n",
       "4                   0                0.0                        0    39835428   \n",
       "5                   0                0.0                        0    39835428   \n",
       "6                   0                0.0                        0    39835428   \n",
       "7                   0                0.0                        0    39835428   \n",
       "8                   0                0.0                        0    39835428   \n",
       "9                   0                0.0                        0    39835428   \n",
       "\n",
       "   clusters cluster  \n",
       "0         0    pink  \n",
       "1         0    pink  \n",
       "2         0    pink  \n",
       "3         0    pink  \n",
       "4         0    pink  \n",
       "5         0    pink  \n",
       "6         0    pink  \n",
       "7         0    pink  \n",
       "8         0    pink  \n",
       "9         0    pink  "
      ]
     },
     "execution_count": 97,
     "metadata": {},
     "output_type": "execute_result"
    }
   ],
   "source": [
    "df_new.head(10)"
   ]
  },
  {
   "cell_type": "code",
   "execution_count": 98,
   "id": "15622464",
   "metadata": {},
   "outputs": [
    {
     "data": {
      "image/png": "[encoded data removed]",
      "text/plain": [
       "<Figure size 864x576 with 1 Axes>"
      ]
     },
     "metadata": {
      "needs_background": "light"
     },
     "output_type": "display_data"
    }
   ],
   "source": [
    "# Plot the clusters for the \"cumulative_deaths\" and \"people_vaccinated\" variables.\n",
    "\n",
    "plt.figure(figsize=(12,8))\n",
    "ax = sns.scatterplot(x=df_new['cumulative_deaths'], y=df_new['people_vaccinated'], hue=kmeans.labels_, s=30) \n",
    "ax.grid(False) \n",
    "plt.xlabel('cumulative_deaths') \n",
    "plt.ylabel('people_vaccinated') \n",
    "plt.show()"
   ]
  },
  {
   "cell_type": "markdown",
   "id": "4bd56962",
   "metadata": {},
   "source": [
    "##### Discuss how and why the clusters make sense. If they don’t make sense, however, this is also useful insight, as it means you’ll need to explore the data further.\n",
    "\n",
    "\n",
    "Here we see the three different clusters which makes sense and I can interpret these cluster as follows :\n",
    "\n",
    "In the light pink cluster, we have countries where the mortality is very high and comparitively they are way beyond in vaccination rates. There is also a possibility for this cluster that because vaccination started very late after the all research and approval of vaccination from competent authorities countrywise, and the by that time deaths already happened and now those countries with higher death rates going to take lot of time to catch up on their vaccination rates.\n",
    "\n",
    "In the dark purple cluster, we have countries with high death rates but their vaccination is also picking up faster.\n",
    "\n",
    "In the purple cluster , we have countries where we can see the slow down of mortality because of high vaccination rates"
   ]
  },
  {
   "cell_type": "markdown",
   "id": "b264b7e1",
   "metadata": {},
   "source": [
    "##### Propose what these results could be useful for in future steps of an analytics pipeline.\n",
    "\n",
    "Based on this Clustering model, I can do further analysis and find out why some countries are doing better in vaccination rates and why not others.\n",
    "\n",
    "Also based on the cluster formation , I can test my hypothesis on certain locations and find out which clusters are best fits for my stated hypothesis or not any, then I can do further analysis of data\n"
   ]
  },
  {
   "cell_type": "code",
   "execution_count": null,
   "id": "c0f3be30",
   "metadata": {},
   "outputs": [],
   "source": []
  },
  {
   "cell_type": "code",
   "execution_count": null,
   "id": "b6d0fa1b",
   "metadata": {},
   "outputs": [],
   "source": []
  },
  {
   "cell_type": "code",
   "execution_count": null,
   "id": "330f6986",
   "metadata": {},
   "outputs": [],
   "source": []
  },
  {
   "cell_type": "code",
   "execution_count": null,
   "id": "44b1d1f1",
   "metadata": {},
   "outputs": [],
   "source": []
  },
  {
   "cell_type": "code",
   "execution_count": null,
   "id": "6bc1ced6",
   "metadata": {},
   "outputs": [],
   "source": []
  }
 ],
 "metadata": {
  "kernelspec": {
   "display_name": "Python 3",
   "language": "python",
   "name": "python3"
  },
  "language_info": {
   "codemirror_mode": {
    "name": "ipython",
    "version": 3
   },
   "file_extension": ".py",
   "mimetype": "text/x-python",
   "name": "python",
   "nbconvert_exporter": "python",
   "pygments_lexer": "ipython3",
   "version": "3.8.8"
  }
 },
 "nbformat": 4,
 "nbformat_minor": 5
}
