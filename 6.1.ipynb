{
 "cells": [
  {
   "cell_type": "code",
   "execution_count": 1,
   "id": "2c2722c6",
   "metadata": {},
   "outputs": [],
   "source": [
    "# Importing Libraries\n",
    "import pandas as pd\n",
    "import numpy as np\n",
    "import os\n"
   ]
  },
  {
   "cell_type": "code",
   "execution_count": 2,
   "id": "ba0d2f37",
   "metadata": {},
   "outputs": [],
   "source": [
    "#converted project folder path into a string\n",
    "path=r'C:\\Users\\manis\\Documents\\World_covid_data_Analysis'"
   ]
  },
  {
   "cell_type": "code",
   "execution_count": 3,
   "id": "331f78a0",
   "metadata": {},
   "outputs": [],
   "source": [
    "#Import the “.csv” data set into your notebook\n",
    "df = pd.read_csv(os.path.join(path, '02 Data', 'original_data', 'main_covid_dataset.csv'))"
   ]
  },
  {
   "cell_type": "code",
   "execution_count": 4,
   "id": "8a7ae359",
   "metadata": {},
   "outputs": [
    {
     "data": {
      "text/html": [
       "<div>\n",
       "<style scoped>\n",
       "    .dataframe tbody tr th:only-of-type {\n",
       "        vertical-align: middle;\n",
       "    }\n",
       "\n",
       "    .dataframe tbody tr th {\n",
       "        vertical-align: top;\n",
       "    }\n",
       "\n",
       "    .dataframe thead th {\n",
       "        text-align: right;\n",
       "    }\n",
       "</style>\n",
       "<table border=\"1\" class=\"dataframe\">\n",
       "  <thead>\n",
       "    <tr style=\"text-align: right;\">\n",
       "      <th></th>\n",
       "      <th>iso_code</th>\n",
       "      <th>continent</th>\n",
       "      <th>location</th>\n",
       "      <th>date</th>\n",
       "      <th>total_cases</th>\n",
       "      <th>new_cases</th>\n",
       "      <th>total_deaths</th>\n",
       "      <th>new_deaths</th>\n",
       "      <th>icu_patients</th>\n",
       "      <th>hosp_patients</th>\n",
       "      <th>...</th>\n",
       "      <th>population_density</th>\n",
       "      <th>median_age</th>\n",
       "      <th>aged_65_older</th>\n",
       "      <th>aged_70_older</th>\n",
       "      <th>gdp_per_capita</th>\n",
       "      <th>cardiovasc_death_rate</th>\n",
       "      <th>diabetes_prevalence</th>\n",
       "      <th>handwashing_facilities</th>\n",
       "      <th>hospital_beds_per_thousand</th>\n",
       "      <th>life_expectancy</th>\n",
       "    </tr>\n",
       "  </thead>\n",
       "  <tbody>\n",
       "    <tr>\n",
       "      <th>0</th>\n",
       "      <td>AFG</td>\n",
       "      <td>Asia</td>\n",
       "      <td>Afghanistan</td>\n",
       "      <td>2/24/2020</td>\n",
       "      <td>5.0</td>\n",
       "      <td>5.0</td>\n",
       "      <td>NaN</td>\n",
       "      <td>NaN</td>\n",
       "      <td>NaN</td>\n",
       "      <td>NaN</td>\n",
       "      <td>...</td>\n",
       "      <td>54.422</td>\n",
       "      <td>18.6</td>\n",
       "      <td>2.581</td>\n",
       "      <td>1.337</td>\n",
       "      <td>1803.987</td>\n",
       "      <td>597.029</td>\n",
       "      <td>9.59</td>\n",
       "      <td>37.746</td>\n",
       "      <td>0.5</td>\n",
       "      <td>64.83</td>\n",
       "    </tr>\n",
       "    <tr>\n",
       "      <th>1</th>\n",
       "      <td>AFG</td>\n",
       "      <td>Asia</td>\n",
       "      <td>Afghanistan</td>\n",
       "      <td>2/25/2020</td>\n",
       "      <td>5.0</td>\n",
       "      <td>0.0</td>\n",
       "      <td>NaN</td>\n",
       "      <td>NaN</td>\n",
       "      <td>NaN</td>\n",
       "      <td>NaN</td>\n",
       "      <td>...</td>\n",
       "      <td>54.422</td>\n",
       "      <td>18.6</td>\n",
       "      <td>2.581</td>\n",
       "      <td>1.337</td>\n",
       "      <td>1803.987</td>\n",
       "      <td>597.029</td>\n",
       "      <td>9.59</td>\n",
       "      <td>37.746</td>\n",
       "      <td>0.5</td>\n",
       "      <td>64.83</td>\n",
       "    </tr>\n",
       "    <tr>\n",
       "      <th>2</th>\n",
       "      <td>AFG</td>\n",
       "      <td>Asia</td>\n",
       "      <td>Afghanistan</td>\n",
       "      <td>2/26/2020</td>\n",
       "      <td>5.0</td>\n",
       "      <td>0.0</td>\n",
       "      <td>NaN</td>\n",
       "      <td>NaN</td>\n",
       "      <td>NaN</td>\n",
       "      <td>NaN</td>\n",
       "      <td>...</td>\n",
       "      <td>54.422</td>\n",
       "      <td>18.6</td>\n",
       "      <td>2.581</td>\n",
       "      <td>1.337</td>\n",
       "      <td>1803.987</td>\n",
       "      <td>597.029</td>\n",
       "      <td>9.59</td>\n",
       "      <td>37.746</td>\n",
       "      <td>0.5</td>\n",
       "      <td>64.83</td>\n",
       "    </tr>\n",
       "    <tr>\n",
       "      <th>3</th>\n",
       "      <td>AFG</td>\n",
       "      <td>Asia</td>\n",
       "      <td>Afghanistan</td>\n",
       "      <td>2/27/2020</td>\n",
       "      <td>5.0</td>\n",
       "      <td>0.0</td>\n",
       "      <td>NaN</td>\n",
       "      <td>NaN</td>\n",
       "      <td>NaN</td>\n",
       "      <td>NaN</td>\n",
       "      <td>...</td>\n",
       "      <td>54.422</td>\n",
       "      <td>18.6</td>\n",
       "      <td>2.581</td>\n",
       "      <td>1.337</td>\n",
       "      <td>1803.987</td>\n",
       "      <td>597.029</td>\n",
       "      <td>9.59</td>\n",
       "      <td>37.746</td>\n",
       "      <td>0.5</td>\n",
       "      <td>64.83</td>\n",
       "    </tr>\n",
       "    <tr>\n",
       "      <th>4</th>\n",
       "      <td>AFG</td>\n",
       "      <td>Asia</td>\n",
       "      <td>Afghanistan</td>\n",
       "      <td>2/28/2020</td>\n",
       "      <td>5.0</td>\n",
       "      <td>0.0</td>\n",
       "      <td>NaN</td>\n",
       "      <td>NaN</td>\n",
       "      <td>NaN</td>\n",
       "      <td>NaN</td>\n",
       "      <td>...</td>\n",
       "      <td>54.422</td>\n",
       "      <td>18.6</td>\n",
       "      <td>2.581</td>\n",
       "      <td>1.337</td>\n",
       "      <td>1803.987</td>\n",
       "      <td>597.029</td>\n",
       "      <td>9.59</td>\n",
       "      <td>37.746</td>\n",
       "      <td>0.5</td>\n",
       "      <td>64.83</td>\n",
       "    </tr>\n",
       "  </tbody>\n",
       "</table>\n",
       "<p>5 rows × 28 columns</p>\n",
       "</div>"
      ],
      "text/plain": [
       "  iso_code continent     location       date  total_cases  new_cases  \\\n",
       "0      AFG      Asia  Afghanistan  2/24/2020          5.0        5.0   \n",
       "1      AFG      Asia  Afghanistan  2/25/2020          5.0        0.0   \n",
       "2      AFG      Asia  Afghanistan  2/26/2020          5.0        0.0   \n",
       "3      AFG      Asia  Afghanistan  2/27/2020          5.0        0.0   \n",
       "4      AFG      Asia  Afghanistan  2/28/2020          5.0        0.0   \n",
       "\n",
       "   total_deaths  new_deaths  icu_patients  hosp_patients  ...  \\\n",
       "0           NaN         NaN           NaN            NaN  ...   \n",
       "1           NaN         NaN           NaN            NaN  ...   \n",
       "2           NaN         NaN           NaN            NaN  ...   \n",
       "3           NaN         NaN           NaN            NaN  ...   \n",
       "4           NaN         NaN           NaN            NaN  ...   \n",
       "\n",
       "   population_density  median_age  aged_65_older  aged_70_older  \\\n",
       "0              54.422        18.6          2.581          1.337   \n",
       "1              54.422        18.6          2.581          1.337   \n",
       "2              54.422        18.6          2.581          1.337   \n",
       "3              54.422        18.6          2.581          1.337   \n",
       "4              54.422        18.6          2.581          1.337   \n",
       "\n",
       "   gdp_per_capita  cardiovasc_death_rate  diabetes_prevalence  \\\n",
       "0        1803.987                597.029                 9.59   \n",
       "1        1803.987                597.029                 9.59   \n",
       "2        1803.987                597.029                 9.59   \n",
       "3        1803.987                597.029                 9.59   \n",
       "4        1803.987                597.029                 9.59   \n",
       "\n",
       "   handwashing_facilities  hospital_beds_per_thousand  life_expectancy  \n",
       "0                  37.746                         0.5            64.83  \n",
       "1                  37.746                         0.5            64.83  \n",
       "2                  37.746                         0.5            64.83  \n",
       "3                  37.746                         0.5            64.83  \n",
       "4                  37.746                         0.5            64.83  \n",
       "\n",
       "[5 rows x 28 columns]"
      ]
     },
     "execution_count": 4,
     "metadata": {},
     "output_type": "execute_result"
    }
   ],
   "source": [
    "#Print the first 5 rows of your dataframe\n",
    "df.head(5)"
   ]
  },
  {
   "cell_type": "code",
   "execution_count": 5,
   "id": "7fb5f84d",
   "metadata": {},
   "outputs": [
    {
     "data": {
      "text/plain": [
       "(138727, 28)"
      ]
     },
     "execution_count": 5,
     "metadata": {},
     "output_type": "execute_result"
    }
   ],
   "source": [
    "#Total number of Rows and Columns in our dataset\n",
    "df.shape"
   ]
  },
  {
   "cell_type": "code",
   "execution_count": 6,
   "id": "e02836a1",
   "metadata": {},
   "outputs": [],
   "source": [
    "#Data Wrangling Procedures\n",
    "#Dropping Columns : Columns which are not relevant for the analysis\n",
    "\n",
    "df_new=df.drop(columns=['iso_code','icu_patients','hosp_patients','new_tests','total_tests','positive_rate','total_boosters','population_density','median_age','aged_65_older','aged_70_older','gdp_per_capita','cardiovasc_death_rate','diabetes_prevalence','handwashing_facilities','hospital_beds_per_thousand','life_expectancy'])"
   ]
  },
  {
   "cell_type": "code",
   "execution_count": 7,
   "id": "dacb5315",
   "metadata": {},
   "outputs": [
    {
     "data": {
      "text/plain": [
       "(138727, 11)"
      ]
     },
     "execution_count": 7,
     "metadata": {},
     "output_type": "execute_result"
    }
   ],
   "source": [
    "df_new.shape"
   ]
  },
  {
   "cell_type": "code",
   "execution_count": 8,
   "id": "4e780429",
   "metadata": {},
   "outputs": [
    {
     "data": {
      "text/plain": [
       "Index(['continent', 'location', 'date', 'total_cases', 'new_cases',\n",
       "       'total_deaths', 'new_deaths', 'total_vaccinations', 'people_vaccinated',\n",
       "       'people_fully_vaccinated', 'population'],\n",
       "      dtype='object')"
      ]
     },
     "execution_count": 8,
     "metadata": {},
     "output_type": "execute_result"
    }
   ],
   "source": [
    "#Print the name of the columns in new dataset df_new\n",
    "df_new.columns"
   ]
  },
  {
   "cell_type": "code",
   "execution_count": 9,
   "id": "4d9e2e21",
   "metadata": {},
   "outputs": [],
   "source": [
    "#Renaming the Column\n",
    "df_new.rename(columns={'total_cases':'cumulative_cases'},inplace=True)"
   ]
  },
  {
   "cell_type": "code",
   "execution_count": 10,
   "id": "0e692ba6",
   "metadata": {},
   "outputs": [],
   "source": [
    "df_new.rename(columns={'total_deaths':'cumulative_deaths'},inplace=True)"
   ]
  },
  {
   "cell_type": "code",
   "execution_count": 11,
   "id": "2adca707",
   "metadata": {},
   "outputs": [
    {
     "data": {
      "text/plain": [
       "continent                    8825\n",
       "location                        0\n",
       "date                            0\n",
       "cumulative_cases             7728\n",
       "new_cases                    7733\n",
       "cumulative_deaths           19061\n",
       "new_deaths                  18865\n",
       "total_vaccinations         102159\n",
       "people_vaccinated          103780\n",
       "people_fully_vaccinated    106727\n",
       "population                    988\n",
       "dtype: int64"
      ]
     },
     "execution_count": 11,
     "metadata": {},
     "output_type": "execute_result"
    }
   ],
   "source": [
    "# Finding missing values\n",
    "df_new.isnull().sum()"
   ]
  },
  {
   "cell_type": "markdown",
   "id": "6bf08cf9",
   "metadata": {},
   "source": [
    "#Except location and date , all the columns have missing entries.For all the columns with number of cases and deaths, for all those missing entries we can record \"0\" in our dataset, because those days no cases or deaths must have been reported in many different countries. \n",
    "\n",
    "#For vaccination columns , highest number of missing records are there because vaccination was approved and started in the later part of the year, so we are going to replace all those missing records with \"0\" as well\n",
    "\n",
    "#Continent column missing records shows the lack of information, so here I am going to remove these observations from the dataset, because we dont know to which location that data belongs to.\n",
    "\n",
    "#Population column missing records belongs to not any particular location, they are categorized as \"International\" , so will delete all those records as they are not relevant for our countrywise analysis"
   ]
  },
  {
   "cell_type": "code",
   "execution_count": 12,
   "id": "2d39c581",
   "metadata": {},
   "outputs": [],
   "source": [
    "#Creating a new dataset without all the rows which has continent column as missing value\n",
    "df_new_clean=df_new[df_new['continent'].isnull()==False]"
   ]
  },
  {
   "cell_type": "code",
   "execution_count": 13,
   "id": "e1bebdee",
   "metadata": {},
   "outputs": [
    {
     "data": {
      "text/plain": [
       "(138727, 11)"
      ]
     },
     "execution_count": 13,
     "metadata": {},
     "output_type": "execute_result"
    }
   ],
   "source": [
    "df_new.shape"
   ]
  },
  {
   "cell_type": "code",
   "execution_count": 14,
   "id": "2711dac3",
   "metadata": {},
   "outputs": [
    {
     "data": {
      "text/plain": [
       "(129902, 11)"
      ]
     },
     "execution_count": 14,
     "metadata": {},
     "output_type": "execute_result"
    }
   ],
   "source": [
    "df_new_clean.shape"
   ]
  },
  {
   "cell_type": "markdown",
   "id": "9b553be9",
   "metadata": {},
   "source": [
    "##### Difference in the shape of Old dataset and new dataset shows that all the 8825 rows with Continent missing values have been removed"
   ]
  },
  {
   "cell_type": "markdown",
   "id": "f72fddc0",
   "metadata": {},
   "source": [
    "##### Imputing missing values of cases, deaths and Vaccination columns with \"0\""
   ]
  },
  {
   "cell_type": "code",
   "execution_count": 16,
   "id": "0a9c87b8",
   "metadata": {},
   "outputs": [],
   "source": [
    "df_new_clean['cumulative_cases'].fillna(0, inplace=True)"
   ]
  },
  {
   "cell_type": "code",
   "execution_count": 17,
   "id": "b6df1711",
   "metadata": {},
   "outputs": [
    {
     "data": {
      "text/plain": [
       "0"
      ]
     },
     "execution_count": 17,
     "metadata": {},
     "output_type": "execute_result"
    }
   ],
   "source": [
    "#Checking missing values for column \"total_cases\"\n",
    "df_new_clean['cumulative_cases'].isnull().sum()"
   ]
  },
  {
   "cell_type": "code",
   "execution_count": 18,
   "id": "ef2afd58",
   "metadata": {},
   "outputs": [],
   "source": [
    "df_new_clean['new_cases'].fillna(0, inplace=True)"
   ]
  },
  {
   "cell_type": "code",
   "execution_count": 19,
   "id": "7e3b1c17",
   "metadata": {},
   "outputs": [],
   "source": [
    "df_new_clean['cumulative_deaths'].fillna(0, inplace=True)"
   ]
  },
  {
   "cell_type": "code",
   "execution_count": 20,
   "id": "9a8cc369",
   "metadata": {},
   "outputs": [],
   "source": [
    "df_new_clean['new_deaths'].fillna(0, inplace=True)"
   ]
  },
  {
   "cell_type": "code",
   "execution_count": 21,
   "id": "b43a0e84",
   "metadata": {},
   "outputs": [],
   "source": [
    "df_new_clean['total_vaccinations'].fillna(0, inplace=True)"
   ]
  },
  {
   "cell_type": "code",
   "execution_count": 22,
   "id": "060d031f",
   "metadata": {},
   "outputs": [],
   "source": [
    "df_new_clean['people_vaccinated'].fillna(0, inplace=True)"
   ]
  },
  {
   "cell_type": "code",
   "execution_count": 23,
   "id": "0ecdbb1f",
   "metadata": {},
   "outputs": [],
   "source": [
    "df_new_clean['people_fully_vaccinated'].fillna(0, inplace=True)"
   ]
  },
  {
   "cell_type": "code",
   "execution_count": 24,
   "id": "f6cf95b1",
   "metadata": {},
   "outputs": [
    {
     "data": {
      "text/plain": [
       "continent                    0\n",
       "location                     0\n",
       "date                         0\n",
       "cumulative_cases             0\n",
       "new_cases                    0\n",
       "cumulative_deaths            0\n",
       "new_deaths                   0\n",
       "total_vaccinations           0\n",
       "people_vaccinated            0\n",
       "people_fully_vaccinated      0\n",
       "population                 317\n",
       "dtype: int64"
      ]
     },
     "execution_count": 24,
     "metadata": {},
     "output_type": "execute_result"
    }
   ],
   "source": [
    "# Checking Again for missing values\n",
    "df_new_clean.isnull().sum()"
   ]
  },
  {
   "cell_type": "code",
   "execution_count": 25,
   "id": "3d604d40",
   "metadata": {},
   "outputs": [],
   "source": [
    "# Deleting all the rows with missing values in Population column\n",
    "mod_df = df_new_clean.dropna( how='any', subset=['population'])"
   ]
  },
  {
   "cell_type": "code",
   "execution_count": 26,
   "id": "89a30d01",
   "metadata": {},
   "outputs": [
    {
     "data": {
      "text/plain": [
       "continent                  0\n",
       "location                   0\n",
       "date                       0\n",
       "cumulative_cases           0\n",
       "new_cases                  0\n",
       "cumulative_deaths          0\n",
       "new_deaths                 0\n",
       "total_vaccinations         0\n",
       "people_vaccinated          0\n",
       "people_fully_vaccinated    0\n",
       "population                 0\n",
       "dtype: int64"
      ]
     },
     "execution_count": 26,
     "metadata": {},
     "output_type": "execute_result"
    }
   ],
   "source": [
    "# Checking Again for missing values\n",
    "mod_df.isnull().sum()"
   ]
  },
  {
   "cell_type": "markdown",
   "id": "29246981",
   "metadata": {},
   "source": [
    "#### Now this dataset has no missing values now"
   ]
  },
  {
   "cell_type": "code",
   "execution_count": 33,
   "id": "6a455f24",
   "metadata": {},
   "outputs": [
    {
     "data": {
      "text/plain": [
       "(129585, 11)"
      ]
     },
     "execution_count": 33,
     "metadata": {},
     "output_type": "execute_result"
    }
   ],
   "source": [
    "mod_df.shape"
   ]
  },
  {
   "cell_type": "code",
   "execution_count": 27,
   "id": "c6c1ea5e",
   "metadata": {},
   "outputs": [],
   "source": [
    "#Duplicates\n",
    "# Finding Duplicates\n",
    "#This command will look for full duplicates within df_prods dataframe and create new dataframe df_dups containing only rows that are duplicated\n",
    "df_dups=mod_df[mod_df.duplicated()]"
   ]
  },
  {
   "cell_type": "code",
   "execution_count": 28,
   "id": "c93fdcae",
   "metadata": {},
   "outputs": [
    {
     "data": {
      "text/html": [
       "<div>\n",
       "<style scoped>\n",
       "    .dataframe tbody tr th:only-of-type {\n",
       "        vertical-align: middle;\n",
       "    }\n",
       "\n",
       "    .dataframe tbody tr th {\n",
       "        vertical-align: top;\n",
       "    }\n",
       "\n",
       "    .dataframe thead th {\n",
       "        text-align: right;\n",
       "    }\n",
       "</style>\n",
       "<table border=\"1\" class=\"dataframe\">\n",
       "  <thead>\n",
       "    <tr style=\"text-align: right;\">\n",
       "      <th></th>\n",
       "      <th>continent</th>\n",
       "      <th>location</th>\n",
       "      <th>date</th>\n",
       "      <th>cumulative_cases</th>\n",
       "      <th>new_cases</th>\n",
       "      <th>cumulative_deaths</th>\n",
       "      <th>new_deaths</th>\n",
       "      <th>total_vaccinations</th>\n",
       "      <th>people_vaccinated</th>\n",
       "      <th>people_fully_vaccinated</th>\n",
       "      <th>population</th>\n",
       "    </tr>\n",
       "  </thead>\n",
       "  <tbody>\n",
       "  </tbody>\n",
       "</table>\n",
       "</div>"
      ],
      "text/plain": [
       "Empty DataFrame\n",
       "Columns: [continent, location, date, cumulative_cases, new_cases, cumulative_deaths, new_deaths, total_vaccinations, people_vaccinated, people_fully_vaccinated, population]\n",
       "Index: []"
      ]
     },
     "execution_count": 28,
     "metadata": {},
     "output_type": "execute_result"
    }
   ],
   "source": [
    "df_dups"
   ]
  },
  {
   "cell_type": "code",
   "execution_count": 29,
   "id": "5cab6e66",
   "metadata": {},
   "outputs": [
    {
     "data": {
      "text/plain": [
       "continent                   object\n",
       "location                    object\n",
       "date                        object\n",
       "cumulative_cases           float64\n",
       "new_cases                  float64\n",
       "cumulative_deaths          float64\n",
       "new_deaths                 float64\n",
       "total_vaccinations         float64\n",
       "people_vaccinated          float64\n",
       "people_fully_vaccinated    float64\n",
       "population                 float64\n",
       "dtype: object"
      ]
     },
     "execution_count": 29,
     "metadata": {},
     "output_type": "execute_result"
    }
   ],
   "source": [
    "# Looking for mixed datatypes\n",
    "mod_df.dtypes"
   ]
  },
  {
   "cell_type": "code",
   "execution_count": 30,
   "id": "0931008a",
   "metadata": {},
   "outputs": [],
   "source": [
    "for col in mod_df.columns.tolist():\n",
    "  weird = (mod_df[[col]].applymap(type) != mod_df[[col]].iloc[0].apply(type)).any(axis = 1)\n",
    "  if len (mod_df[weird]) > 0:\n",
    "    print (col)"
   ]
  },
  {
   "cell_type": "markdown",
   "id": "753f5e3b",
   "metadata": {},
   "source": [
    "#### This dataset has no mixed datatypes"
   ]
  },
  {
   "cell_type": "code",
   "execution_count": 31,
   "id": "22a05812",
   "metadata": {},
   "outputs": [
    {
     "data": {
      "text/html": [
       "<div>\n",
       "<style scoped>\n",
       "    .dataframe tbody tr th:only-of-type {\n",
       "        vertical-align: middle;\n",
       "    }\n",
       "\n",
       "    .dataframe tbody tr th {\n",
       "        vertical-align: top;\n",
       "    }\n",
       "\n",
       "    .dataframe thead th {\n",
       "        text-align: right;\n",
       "    }\n",
       "</style>\n",
       "<table border=\"1\" class=\"dataframe\">\n",
       "  <thead>\n",
       "    <tr style=\"text-align: right;\">\n",
       "      <th></th>\n",
       "      <th>cumulative_cases</th>\n",
       "      <th>new_cases</th>\n",
       "      <th>cumulative_deaths</th>\n",
       "      <th>new_deaths</th>\n",
       "      <th>total_vaccinations</th>\n",
       "      <th>people_vaccinated</th>\n",
       "      <th>people_fully_vaccinated</th>\n",
       "      <th>population</th>\n",
       "    </tr>\n",
       "  </thead>\n",
       "  <tbody>\n",
       "    <tr>\n",
       "      <th>count</th>\n",
       "      <td>1.295850e+05</td>\n",
       "      <td>129585.000000</td>\n",
       "      <td>129585.000000</td>\n",
       "      <td>129585.000000</td>\n",
       "      <td>1.295850e+05</td>\n",
       "      <td>1.295850e+05</td>\n",
       "      <td>1.295850e+05</td>\n",
       "      <td>1.295850e+05</td>\n",
       "    </tr>\n",
       "    <tr>\n",
       "      <th>mean</th>\n",
       "      <td>5.276690e+05</td>\n",
       "      <td>2062.197122</td>\n",
       "      <td>11711.378254</td>\n",
       "      <td>40.608543</td>\n",
       "      <td>7.845753e+06</td>\n",
       "      <td>3.034485e+06</td>\n",
       "      <td>1.967066e+06</td>\n",
       "      <td>4.039324e+07</td>\n",
       "    </tr>\n",
       "    <tr>\n",
       "      <th>std</th>\n",
       "      <td>2.618355e+06</td>\n",
       "      <td>10875.280753</td>\n",
       "      <td>50178.067344</td>\n",
       "      <td>189.245485</td>\n",
       "      <td>8.342807e+07</td>\n",
       "      <td>2.527370e+07</td>\n",
       "      <td>1.670698e+07</td>\n",
       "      <td>1.500292e+08</td>\n",
       "    </tr>\n",
       "    <tr>\n",
       "      <th>min</th>\n",
       "      <td>0.000000e+00</td>\n",
       "      <td>-74347.000000</td>\n",
       "      <td>0.000000</td>\n",
       "      <td>-1918.000000</td>\n",
       "      <td>0.000000e+00</td>\n",
       "      <td>0.000000e+00</td>\n",
       "      <td>0.000000e+00</td>\n",
       "      <td>4.700000e+01</td>\n",
       "    </tr>\n",
       "    <tr>\n",
       "      <th>25%</th>\n",
       "      <td>1.300000e+03</td>\n",
       "      <td>0.000000</td>\n",
       "      <td>20.000000</td>\n",
       "      <td>0.000000</td>\n",
       "      <td>0.000000e+00</td>\n",
       "      <td>0.000000e+00</td>\n",
       "      <td>0.000000e+00</td>\n",
       "      <td>1.748295e+06</td>\n",
       "    </tr>\n",
       "    <tr>\n",
       "      <th>50%</th>\n",
       "      <td>1.744600e+04</td>\n",
       "      <td>60.000000</td>\n",
       "      <td>297.000000</td>\n",
       "      <td>1.000000</td>\n",
       "      <td>0.000000e+00</td>\n",
       "      <td>0.000000e+00</td>\n",
       "      <td>0.000000e+00</td>\n",
       "      <td>8.478242e+06</td>\n",
       "    </tr>\n",
       "    <tr>\n",
       "      <th>75%</th>\n",
       "      <td>1.929940e+05</td>\n",
       "      <td>697.000000</td>\n",
       "      <td>3501.000000</td>\n",
       "      <td>10.000000</td>\n",
       "      <td>0.000000e+00</td>\n",
       "      <td>0.000000e+00</td>\n",
       "      <td>0.000000e+00</td>\n",
       "      <td>2.967492e+07</td>\n",
       "    </tr>\n",
       "    <tr>\n",
       "      <th>max</th>\n",
       "      <td>4.953895e+07</td>\n",
       "      <td>414188.000000</td>\n",
       "      <td>793228.000000</td>\n",
       "      <td>7374.000000</td>\n",
       "      <td>2.574931e+09</td>\n",
       "      <td>1.225000e+09</td>\n",
       "      <td>1.125000e+09</td>\n",
       "      <td>1.444216e+09</td>\n",
       "    </tr>\n",
       "  </tbody>\n",
       "</table>\n",
       "</div>"
      ],
      "text/plain": [
       "       cumulative_cases      new_cases  cumulative_deaths     new_deaths  \\\n",
       "count      1.295850e+05  129585.000000      129585.000000  129585.000000   \n",
       "mean       5.276690e+05    2062.197122       11711.378254      40.608543   \n",
       "std        2.618355e+06   10875.280753       50178.067344     189.245485   \n",
       "min        0.000000e+00  -74347.000000           0.000000   -1918.000000   \n",
       "25%        1.300000e+03       0.000000          20.000000       0.000000   \n",
       "50%        1.744600e+04      60.000000         297.000000       1.000000   \n",
       "75%        1.929940e+05     697.000000        3501.000000      10.000000   \n",
       "max        4.953895e+07  414188.000000      793228.000000    7374.000000   \n",
       "\n",
       "       total_vaccinations  people_vaccinated  people_fully_vaccinated  \\\n",
       "count        1.295850e+05       1.295850e+05             1.295850e+05   \n",
       "mean         7.845753e+06       3.034485e+06             1.967066e+06   \n",
       "std          8.342807e+07       2.527370e+07             1.670698e+07   \n",
       "min          0.000000e+00       0.000000e+00             0.000000e+00   \n",
       "25%          0.000000e+00       0.000000e+00             0.000000e+00   \n",
       "50%          0.000000e+00       0.000000e+00             0.000000e+00   \n",
       "75%          0.000000e+00       0.000000e+00             0.000000e+00   \n",
       "max          2.574931e+09       1.225000e+09             1.125000e+09   \n",
       "\n",
       "         population  \n",
       "count  1.295850e+05  \n",
       "mean   4.039324e+07  \n",
       "std    1.500292e+08  \n",
       "min    4.700000e+01  \n",
       "25%    1.748295e+06  \n",
       "50%    8.478242e+06  \n",
       "75%    2.967492e+07  \n",
       "max    1.444216e+09  "
      ]
     },
     "execution_count": 31,
     "metadata": {},
     "output_type": "execute_result"
    }
   ],
   "source": [
    "mod_df.describe()"
   ]
  },
  {
   "cell_type": "code",
   "execution_count": 32,
   "id": "bfbaf14b",
   "metadata": {},
   "outputs": [],
   "source": [
    "# Exported the df_new_clean dataset in prepared_data folder as CSV file MainCoviddata_Checked.csv\n",
    "df_new_clean.to_csv(os.path.join(path, '02 Data','prepared_data', 'maincoviddataset_checked.csv'))"
   ]
  },
  {
   "cell_type": "code",
   "execution_count": null,
   "id": "4e7edbe6",
   "metadata": {},
   "outputs": [],
   "source": []
  },
  {
   "cell_type": "code",
   "execution_count": null,
   "id": "045020b5",
   "metadata": {},
   "outputs": [],
   "source": []
  }
 ],
 "metadata": {
  "kernelspec": {
   "display_name": "Python 3",
   "language": "python",
   "name": "python3"
  },
  "language_info": {
   "codemirror_mode": {
    "name": "ipython",
    "version": 3
   },
   "file_extension": ".py",
   "mimetype": "text/x-python",
   "name": "python",
   "nbconvert_exporter": "python",
   "pygments_lexer": "ipython3",
   "version": "3.8.8"
  }
 },
 "nbformat": 4,
 "nbformat_minor": 5
}
